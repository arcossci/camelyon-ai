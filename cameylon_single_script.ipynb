{
  "nbformat": 4,
  "nbformat_minor": 0,
  "metadata": {
    "colab": {
      "name": "cameylon_single_script.ipynb",
      "version": "0.3.2",
      "provenance": [],
      "collapsed_sections": [],
      "toc_visible": true
    },
    "kernelspec": {
      "display_name": "Python 3",
      "language": "python",
      "name": "python3"
    },
    "accelerator": "GPU"
  },
  "cells": [
    {
      "metadata": {
        "colab_type": "text",
        "id": "gbfcNIvGeDQb"
      },
      "cell_type": "markdown",
      "source": [
        "An example program that shows how to read slides and tumor masks from the [CAMELYON16](https://camelyon17.grand-challenge.org/Data/) dataset. \n",
        "\n",
        "* To run this code, first you will need to install [OpenSlide](https://openslide.org/), the only non-Python dependency. \n",
        "\n",
        "\n",
        "* Tissue masks were produced for each slide using [ASAP](https://github.com/computationalpathologygroup/ASAP) and the instructions on the competition website. I did this in advance for you, so you wouldn't have to spend energy installing ASAP on OSX (it has a variety of dependencies). This way, you'll only need to install OpenSlide.\n",
        "\n",
        "\n",
        "* OpenSlide also includes a [DeepZoom viewer](https://github.com/openslide/openslide-python/tree/master/examples/deepzoom) you can use to view the tissue images (after installing open slide, clone that repo, `cd` into the examples, and run `python deepzoom_server.py`.\n",
        "\n",
        "\n",
        "* You can find an example slide and tumor mask [here](https://drive.google.com/drive/folders/1rwWL8zU9v0M27BtQKI52bF6bVLW82RL5?usp=sharing).\n",
        "\n",
        "\n"
      ]
    },
    {
      "metadata": {
        "colab_type": "code",
        "id": "sdt4a_EfjyYG",
        "outputId": "18acdade-359e-4599-9603-3a96ebf4e35b",
        "colab": {
          "base_uri": "https://localhost:8080/",
          "height": 700
        }
      },
      "cell_type": "code",
      "source": [
        "import tensorflow as tf\n",
        "tf.enable_eager_execution()\n",
        "\n",
        "!apt-get install openslide-tools\n",
        "!pip install openslide-python\n",
        "!pip install opencv-python"
      ],
      "execution_count": 1,
      "outputs": [
        {
          "output_type": "stream",
          "text": [
            "Reading package lists... Done\n",
            "Building dependency tree       \n",
            "Reading state information... Done\n",
            "The following additional packages will be installed:\n",
            "  libopenslide0\n",
            "Suggested packages:\n",
            "  libtiff-tools\n",
            "The following NEW packages will be installed:\n",
            "  libopenslide0 openslide-tools\n",
            "0 upgraded, 2 newly installed, 0 to remove and 8 not upgraded.\n",
            "Need to get 92.5 kB of archives.\n",
            "After this operation, 268 kB of additional disk space will be used.\n",
            "Get:1 http://archive.ubuntu.com/ubuntu bionic/universe amd64 libopenslide0 amd64 3.4.1+dfsg-2 [79.8 kB]\n",
            "Get:2 http://archive.ubuntu.com/ubuntu bionic/universe amd64 openslide-tools amd64 3.4.1+dfsg-2 [12.7 kB]\n",
            "Fetched 92.5 kB in 1s (154 kB/s)\n",
            "Selecting previously unselected package libopenslide0.\n",
            "(Reading database ... 110377 files and directories currently installed.)\n",
            "Preparing to unpack .../libopenslide0_3.4.1+dfsg-2_amd64.deb ...\n",
            "Unpacking libopenslide0 (3.4.1+dfsg-2) ...\n",
            "Selecting previously unselected package openslide-tools.\n",
            "Preparing to unpack .../openslide-tools_3.4.1+dfsg-2_amd64.deb ...\n",
            "Unpacking openslide-tools (3.4.1+dfsg-2) ...\n",
            "Setting up libopenslide0 (3.4.1+dfsg-2) ...\n",
            "Processing triggers for libc-bin (2.27-3ubuntu1) ...\n",
            "Setting up openslide-tools (3.4.1+dfsg-2) ...\n",
            "Processing triggers for man-db (2.8.3-2ubuntu0.1) ...\n",
            "Collecting openslide-python\n",
            "\u001b[?25l  Downloading https://files.pythonhosted.org/packages/26/5a/5b0adeabce81f018a9e4ffe9a419536064bc95c1b12194aff9b7e48f91f7/openslide-python-1.1.1.tar.gz (312kB)\n",
            "\u001b[K    100% |████████████████████████████████| 317kB 17.7MB/s \n",
            "\u001b[?25hRequirement already satisfied: Pillow in /usr/local/lib/python3.6/dist-packages (from openslide-python) (4.0.0)\n",
            "Requirement already satisfied: olefile in /usr/local/lib/python3.6/dist-packages (from Pillow->openslide-python) (0.46)\n",
            "Building wheels for collected packages: openslide-python\n",
            "  Running setup.py bdist_wheel for openslide-python ... \u001b[?25l-\b \b\\\b \b|\b \b/\b \bdone\n",
            "\u001b[?25h  Stored in directory: /root/.cache/pip/wheels/56/44/7e/16c9fc72cfbf1bffe48676b6835843d21abcc56566e958e7d6\n",
            "Successfully built openslide-python\n",
            "Installing collected packages: openslide-python\n",
            "Successfully installed openslide-python-1.1.1\n",
            "Requirement already satisfied: opencv-python in /usr/local/lib/python3.6/dist-packages (3.4.4.19)\n",
            "Requirement already satisfied: numpy>=1.11.3 in /usr/local/lib/python3.6/dist-packages (from opencv-python) (1.14.6)\n"
          ],
          "name": "stdout"
        }
      ]
    },
    {
      "metadata": {
        "colab_type": "code",
        "id": "FFreKySGeDQc",
        "outputId": "58f3a828-6ec8-4773-a117-14ad40fb942c",
        "colab": {
          "base_uri": "https://localhost:8080/",
          "height": 34
        }
      },
      "cell_type": "code",
      "source": [
        "%matplotlib inline\n",
        "import matplotlib.pyplot as plt\n",
        "import numpy as np\n",
        "from openslide import open_slide, __library_version__ as openslide_version\n",
        "from PIL import Image\n",
        "from skimage.color import rgb2gray\n",
        "import cv2\n",
        "import os\n",
        "os.environ['CUDA_VISIBLE_DEVICES'] = \"0,1\"\n",
        "print(openslide_version)"
      ],
      "execution_count": 2,
      "outputs": [
        {
          "output_type": "stream",
          "text": [
            "3.4.1\n"
          ],
          "name": "stdout"
        }
      ]
    },
    {
      "metadata": {
        "id": "-GmTMhJa9Vlq",
        "colab_type": "code",
        "colab": {
          "base_uri": "https://localhost:8080/",
          "height": 34
        },
        "outputId": "0b450cb6-e92c-4c2b-d3dd-60eb335b009c"
      },
      "cell_type": "code",
      "source": [
        "from tensorflow.python.client import device_lib\n",
        "\n",
        "def get_available_gpus():\n",
        "    local_device_protos = device_lib.list_local_devices()\n",
        "    return [x.name for x in local_device_protos if x.device_type == 'GPU']\n",
        "get_available_gpus()"
      ],
      "execution_count": 3,
      "outputs": [
        {
          "output_type": "execute_result",
          "data": {
            "text/plain": [
              "['/device:GPU:0']"
            ]
          },
          "metadata": {
            "tags": []
          },
          "execution_count": 3
        }
      ]
    },
    {
      "metadata": {
        "colab_type": "text",
        "id": "JK0cjlM8m93k"
      },
      "cell_type": "markdown",
      "source": [
        "# Training"
      ]
    },
    {
      "metadata": {
        "colab_type": "text",
        "id": "MfV4W8binmmF"
      },
      "cell_type": "markdown",
      "source": [
        "## Data preprocessing"
      ]
    },
    {
      "metadata": {
        "colab_type": "code",
        "id": "qLoIzYp9o1TQ",
        "outputId": "4fcdc4f8-d5a8-4814-e621-7d3bc2bdada5",
        "colab": {
          "base_uri": "https://localhost:8080/",
          "height": 119
        }
      },
      "cell_type": "code",
      "source": [
        "## Download training data -- image and tumor mask\n",
        "!gsutil cp  gs://terry-columbia/deep_learning_final_project/tumor_091_mask.tif tumor_091_mask.tif\n",
        "!gsutil cp  gs://terry-columbia/deep_learning_final_project/tumor_091.tif tumor_091.tif"
      ],
      "execution_count": 6,
      "outputs": [
        {
          "output_type": "stream",
          "text": [
            "Copying gs://terry-columbia/deep_learning_final_project/tumor_091_mask.tif...\n",
            "\\ [1 files][ 14.7 MiB/ 14.7 MiB]                                                \n",
            "Operation completed over 1 objects/14.7 MiB.                                     \n",
            "Copying gs://terry-columbia/deep_learning_final_project/tumor_091.tif...\n",
            "| [1 files][521.1 MiB/521.1 MiB]                                                \n",
            "Operation completed over 1 objects/521.1 MiB.                                    \n"
          ],
          "name": "stdout"
        }
      ]
    },
    {
      "metadata": {
        "id": "zjFdoJf89Vl0",
        "colab_type": "code",
        "colab": {
          "base_uri": "https://localhost:8080/",
          "height": 34
        },
        "outputId": "8068ce44-52d3-4672-cbd8-8406864e9f63"
      },
      "cell_type": "code",
      "source": [
        "## This to remove data if you want to splice it at another size\n",
        "!rm -r 'data'"
      ],
      "execution_count": 7,
      "outputs": [
        {
          "output_type": "stream",
          "text": [
            "rm: cannot remove 'data': No such file or directory\n"
          ],
          "name": "stdout"
        }
      ]
    },
    {
      "metadata": {
        "colab_type": "code",
        "id": "fJCTLGR8eDQg",
        "outputId": "ff152c34-7540-4eb8-f73c-13b7803ef0cf",
        "colab": {
          "base_uri": "https://localhost:8080/",
          "height": 204
        }
      },
      "cell_type": "code",
      "source": [
        "## Load in training image and mask using openslide\n",
        "slide_path = 'tumor_091.tif'\n",
        "tumor_mask_path = 'tumor_091_mask.tif'\n",
        "\n",
        "slide = open_slide(slide_path)\n",
        "\n",
        "print (\"Read WSI from %s with width: %d, height: %d\" % (slide_path, \n",
        "                                                        slide.level_dimensions[0][0], \n",
        "                                                        slide.level_dimensions[0][1]))\n",
        "tumor_mask = open_slide(tumor_mask_path)\n",
        "print (\"Read tumor mask from %s\" % (tumor_mask_path))\n",
        "\n",
        "print(\"Slide includes %d levels\", len(slide.level_dimensions))\n",
        "for i in range(len(slide.level_dimensions)):\n",
        "    print(\"Level %d, dimensions: %s downsample factor %d\" % (i, \n",
        "                                                             slide.level_dimensions[i], \n",
        "                                                             slide.level_downsamples[i]))\n",
        "    assert tumor_mask.level_dimensions[i][0] == slide.level_dimensions[i][0]\n",
        "    assert tumor_mask.level_dimensions[i][1] == slide.level_dimensions[i][1]\n",
        "\n",
        "# Verify downsampling works as expected\n",
        "width, height = slide.level_dimensions[7]\n",
        "assert width * slide.level_downsamples[7] == slide.level_dimensions[0][0]\n",
        "assert height * slide.level_downsamples[7] == slide.level_dimensions[0][1]\n",
        "\n"
      ],
      "execution_count": 10,
      "outputs": [
        {
          "output_type": "stream",
          "text": [
            "Read WSI from tumor_091.tif with width: 61440, height: 53760\n",
            "Read tumor mask from tumor_091_mask.tif\n",
            "Slide includes %d levels 8\n",
            "Level 0, dimensions: (61440, 53760) downsample factor 1\n",
            "Level 1, dimensions: (30720, 26880) downsample factor 2\n",
            "Level 2, dimensions: (15360, 13440) downsample factor 4\n",
            "Level 3, dimensions: (7680, 6720) downsample factor 8\n",
            "Level 4, dimensions: (3840, 3360) downsample factor 16\n",
            "Level 5, dimensions: (1920, 1680) downsample factor 32\n",
            "Level 6, dimensions: (960, 840) downsample factor 64\n",
            "Level 7, dimensions: (480, 420) downsample factor 128\n"
          ],
          "name": "stdout"
        }
      ]
    },
    {
      "metadata": {
        "colab_type": "code",
        "id": "-M40bX56eDQl",
        "colab": {}
      },
      "cell_type": "code",
      "source": [
        "## Define a function to read the slide and convert it to a numpy array\n",
        "## Numpy array has depth = 3, channels = RGB \n",
        "\n",
        "def read_slide(slide, x, y, level, width, height, as_float=False):\n",
        "    im = slide.read_region((x,y), level, (width, height))\n",
        "    im = im.convert('RGB') # drop the alpha channel\n",
        "    if as_float:\n",
        "        im = np.asarray(im, dtype=np.float32)\n",
        "    else:\n",
        "        im = np.asarray(im)\n",
        "    assert im.shape == (height, width, 3)\n",
        "    return im"
      ],
      "execution_count": 0,
      "outputs": []
    },
    {
      "metadata": {
        "colab_type": "code",
        "id": "_6ruCaJC0o2k",
        "colab": {}
      },
      "cell_type": "code",
      "source": [
        "# might be useful to add a method for reading masks?\n",
        "\n",
        "def read_slide_mask(slide, x, y, level, width, height, as_float=False):\n",
        "    im = slide.read_region((x,y), level, (width, height))\n",
        "    im = im.convert('RGB') # drop the alpha channel\n",
        "    if as_float:\n",
        "        im = np.asarray(im, dtype=np.float32)\n",
        "    else:\n",
        "        im = np.asarray(im)\n",
        "    assert im.shape == (height, width, 3)\n",
        "    return im[:,:,0]"
      ],
      "execution_count": 0,
      "outputs": []
    },
    {
      "metadata": {
        "colab_type": "code",
        "id": "i_A4hYRxeDQm",
        "outputId": "9ba99a97-daeb-481b-c097-3cbb9c9c85d9",
        "colab": {
          "base_uri": "https://localhost:8080/",
          "height": 286
        }
      },
      "cell_type": "code",
      "source": [
        "## Read training image at slide level 3\n",
        "num_level = 4\n",
        "slide_image = read_slide(slide, \n",
        "                         x=0, \n",
        "                         y=0, \n",
        "                         level=num_level, \n",
        "                         width=slide.level_dimensions[num_level][0], \n",
        "                         height=slide.level_dimensions[num_level][1])\n",
        "\n",
        "## Plot training image\n",
        "plt.imshow(slide_image)"
      ],
      "execution_count": 14,
      "outputs": [
        {
          "output_type": "execute_result",
          "data": {
            "text/plain": [
              "<matplotlib.image.AxesImage at 0x7fecc2576b70>"
            ]
          },
          "metadata": {
            "tags": []
          },
          "execution_count": 14
        },
        {
          "output_type": "display_data",
          "data": {
            "image/png": "[encoded data removed]",
            "text/plain": [
              "<matplotlib.figure.Figure at 0x7feccdde5a90>"
            ]
          },
          "metadata": {
            "tags": []
          }
        }
      ]
    },
    {
      "metadata": {
        "colab_type": "code",
        "id": "xnxYkCyxeDQq",
        "outputId": "92ed4d5d-37ac-403f-8369-62e12990b2d4",
        "colab": {
          "base_uri": "https://localhost:8080/",
          "height": 286
        }
      },
      "cell_type": "code",
      "source": [
        "## Read the training mask at the same level (slide level 3)\n",
        "## Any level below 3 causes memory overflow\n",
        "\n",
        "mask_image = read_slide(tumor_mask, \n",
        "                        x=0, \n",
        "                        y=0, \n",
        "                        level=num_level, \n",
        "                        width=slide.level_dimensions[num_level][0], \n",
        "                        height=slide.level_dimensions[num_level][1])\n",
        "\n",
        "## Convert the mask from RGB to a black/white binary\n",
        "mask_image = mask_image[:,:,0]\n",
        "\n",
        "# Plot training image masl\n",
        "plt.imshow(mask_image)\n"
      ],
      "execution_count": 15,
      "outputs": [
        {
          "output_type": "execute_result",
          "data": {
            "text/plain": [
              "<matplotlib.image.AxesImage at 0x7fecc05185f8>"
            ]
          },
          "metadata": {
            "tags": []
          },
          "execution_count": 15
        },
        {
          "output_type": "display_data",
          "data": {
            "image/png": "[encoded data removed]",
            "text/plain": [
              "<matplotlib.figure.Figure at 0x7fecc6e83d68>"
            ]
          },
          "metadata": {
            "tags": []
          }
        }
      ]
    },
    {
      "metadata": {
        "colab_type": "code",
        "id": "urrjgZuYeDQt",
        "colab": {}
      },
      "cell_type": "code",
      "source": [
        "## Downsampling/zoom example, no real use as of yet.\n",
        "\n",
        "# Example: extract a region from the L7 downsampled image\n",
        "# Notice we're multiplying the x,y coordinates by the downsample factor\n",
        "# Here, we're \"aiming\" for the top right yellow blob in the image above.\n",
        "\n",
        "# region = read_slide(tumor_mask, x=350 * 128, y=120 * 128, level=7, width=50, height=50)[:,:,0]\n",
        "# plt.imshow(region)"
      ],
      "execution_count": 0,
      "outputs": []
    },
    {
      "metadata": {
        "colab_type": "code",
        "id": "opUG-VhreDQw",
        "outputId": "2d0286c0-78b0-4948-f63b-508e4f89e233",
        "colab": {
          "base_uri": "https://localhost:8080/",
          "height": 34
        }
      },
      "cell_type": "code",
      "source": [
        "## Determine the portions of the image that are tissue\n",
        "def find_tissue_pixels(image, intensity=0.8):\n",
        "    im_gray = rgb2gray(image)\n",
        "    assert im_gray.shape == (image.shape[0], image.shape[1])\n",
        "    indices = np.where(im_gray <= intensity)\n",
        "    return zip(indices[0], indices[1])\n",
        "\n",
        "tissue_pixels = list(find_tissue_pixels(slide_image))\n",
        "\n",
        "percent_tissue = len(tissue_pixels) / float(slide_image.shape[0] * slide_image.shape[0]) * 100\n",
        "print (\"%d tissue_pixels pixels (%.1f percent of the image)\" % (len(tissue_pixels), percent_tissue)) \n",
        "\n",
        "## Turn the tissue pixels into a mask\n",
        "def apply_mask(im, mask, color= 1): #[255,0,0]):\n",
        "#     masked = np.copy(im)\n",
        "    masked = np.zeros((im.shape[0], im.shape[1]))\n",
        "    for x,y in mask: masked[x][y] = color\n",
        "    return masked\n",
        "\n",
        "## Plot tissue regions\n",
        "tissue_regions = apply_mask(slide_image, tissue_pixels)\n",
        "# plt.imshow(tissue_regions)\n",
        "\n"
      ],
      "execution_count": 16,
      "outputs": [
        {
          "output_type": "stream",
          "text": [
            "3451212 tissue_pixels pixels (30.6 percent of the image)\n"
          ],
          "name": "stdout"
        }
      ]
    },
    {
      "metadata": {
        "colab_type": "code",
        "id": "GqFszVYSIbQz",
        "colab": {}
      },
      "cell_type": "code",
      "source": [
        "## Define function to create directories to store slices of the training image\n",
        "def initialize_directories(slide_path):\n",
        "    BASE_DIR = os.getcwd()\n",
        "    \n",
        "    img_num = slide_path.split('_')[1].strip(\".tif\")\n",
        "\n",
        "    # Create a folder for each image\n",
        "    # Within that numbered image folder, create two other folders to hold the image slices \n",
        "    # that contain tumor cells and those that don't.\n",
        "    \n",
        "    DATA = 'data/'\n",
        "    IMG_NUM_FOLDER = img_num + '/'\n",
        "    TUMOR_FOLDER = 'tumor/'\n",
        "    NO_TUMOR_FOLDER = 'no_tumor/'\n",
        "    \n",
        "    DATA_DIR = os.path.join(BASE_DIR, DATA)\n",
        "    IMG_NUM_DIR = os.path.join(BASE_DIR, DATA, IMG_NUM_FOLDER)\n",
        "    TUMOR_DIR = os.path.join(BASE_DIR, DATA, IMG_NUM_FOLDER, TUMOR_FOLDER)\n",
        "    NO_TUMOR_DIR = os.path.join(BASE_DIR, DATA, IMG_NUM_FOLDER, NO_TUMOR_FOLDER)\n",
        "    \n",
        "    if not os.path.exists(DATA_DIR):\n",
        "        os.mkdir(DATA_DIR)\n",
        "    if not os.path.exists(IMG_NUM_DIR):\n",
        "        os.mkdir(IMG_NUM_DIR)\n",
        "    if not os.path.exists(TUMOR_DIR):\n",
        "        os.mkdir(TUMOR_DIR)\n",
        "    if not os.path.exists(NO_TUMOR_DIR):\n",
        "        os.mkdir(NO_TUMOR_DIR)\n",
        "    \n",
        "    # Return the locations of these folders for future use\n",
        "    return DATA + IMG_NUM_FOLDER + TUMOR_FOLDER, DATA + IMG_NUM_FOLDER + NO_TUMOR_FOLDER"
      ],
      "execution_count": 0,
      "outputs": []
    },
    {
      "metadata": {
        "colab_type": "code",
        "id": "QdHnWVvYznk4",
        "colab": {}
      },
      "cell_type": "code",
      "source": [
        "## Define a function to split the image into slices and place them in the proper folder\n",
        "def split_image_and_mask(im, tumor_mask, tissue_mask,  num_pixels, level, slide_path):\n",
        "    x,y = im.shape[0], im.shape[1]\n",
        "    \n",
        "    # Find the number of image slices that the original image will split into\n",
        "    x_count, y_count = int(np.ceil(x / num_pixels)), int(np.ceil(y/num_pixels))\n",
        "\n",
        "    tumor_folder, no_tumor_folder = initialize_directories(slide_path)\n",
        "  \n",
        "\n",
        "    try:\n",
        "        for i in range(x_count):\n",
        "            for j in range(y_count):\n",
        "                im_slice = np.zeros((num_pixels, num_pixels, 3))\n",
        "                tissue_mask_slice = np.zeros((num_pixels, num_pixels))\n",
        "                tumor_mask_slice = np.zeros((num_pixels, num_pixels))\n",
        "\n",
        "                # Name the image slice based on where it lies in the original image\n",
        "                string_name = 'img_level%d_'%(level) + str(i * y_count + j)\n",
        "\n",
        "                # Logic to handle end conditions\n",
        "                if i == x_count-1:\n",
        "                    ub_x = x\n",
        "                    assign_x = x - (x_count-1)*num_pixels\n",
        "                else:\n",
        "                    ub_x = (i+1) * num_pixels\n",
        "                    assign_x = num_pixels\n",
        "\n",
        "                if j == y_count-1:\n",
        "                    ub_y = y\n",
        "                    assign_y = y - (y_count-1)*num_pixels\n",
        "                else:\n",
        "                    ub_y = (j+1) * num_pixels\n",
        "                    assign_y = num_pixels       \n",
        "                \n",
        "                # Assign the pixels to the slice of the tissue mas\n",
        "                tissue_mask_slice[0:assign_x, 0:assign_y] = tissue_mask[(i*num_pixels) :ub_x, (j * num_pixels) :ub_y]\n",
        "\n",
        "                try:\n",
        "                    # If 70% of the slice is tissue, process with classifying the slice\n",
        "                    # (tumor/no tumor) and saving \n",
        "                    if np.mean(tissue_mask_slice) > 0.7:\n",
        "                        im_slice[0:assign_x, 0:assign_y, :] = im[(i*num_pixels) :ub_x, (j * num_pixels) :ub_y, :]\n",
        "                        tumor_mask_slice[0:assign_x, 0:assign_y] = tumor_mask[(i*num_pixels) :ub_x, (j * num_pixels) :ub_y]\n",
        "\n",
        "                        if np.max(tumor_mask_slice) > 0:\n",
        "                            im_file_name = tumor_folder + string_name + \".jpg\" \n",
        "                        else:\n",
        "                           im_file_name = no_tumor_folder + string_name + \".jpg\"\n",
        "                        \n",
        "                        cv2.imwrite(im_file_name, im_slice)\n",
        "                except Exception as oerr:\n",
        "                    print('Error with saving:', oerr)\n",
        "    except Exception as oerr:\n",
        "        print('Error with slicing:', oerr)\n",
        "                    "
      ],
      "execution_count": 0,
      "outputs": []
    },
    {
      "metadata": {
        "colab_type": "code",
        "id": "xMNONBDyL9vc",
        "colab": {}
      },
      "cell_type": "code",
      "source": [
        "## Call the split function on the training data\n",
        "## Break into 64 pixels (no real reason for this number)\n",
        "num_pixels = 64\n",
        "split_image_and_mask(slide_image, mask_image, tissue_regions, num_pixels, num_level, slide_path)"
      ],
      "execution_count": 0,
      "outputs": []
    },
    {
      "metadata": {
        "colab_type": "text",
        "id": "h_jEqmS3Sc8G"
      },
      "cell_type": "markdown",
      "source": [
        "## Create pipeline for training data"
      ]
    },
    {
      "metadata": {
        "colab_type": "code",
        "id": "Br0pVOXeMvyb",
        "outputId": "2f0572c9-1078-4467-bb0a-8275f32c4f1f",
        "colab": {
          "base_uri": "https://localhost:8080/",
          "height": 34
        }
      },
      "cell_type": "code",
      "source": [
        "## Give the labels a corresponding index\n",
        "label_names = sorted(['tumor', 'no_tumor'])\n",
        "label_to_index = dict((name, index) for index,name in enumerate(label_names))\n",
        "label_to_index"
      ],
      "execution_count": 20,
      "outputs": [
        {
          "output_type": "execute_result",
          "data": {
            "text/plain": [
              "{'no_tumor': 0, 'tumor': 1}"
            ]
          },
          "metadata": {
            "tags": []
          },
          "execution_count": 20
        }
      ]
    },
    {
      "metadata": {
        "colab_type": "code",
        "id": "OMk0HN3TNHci",
        "outputId": "5ad07f27-888d-4060-9513-ac9bccfcd6fe",
        "colab": {
          "base_uri": "https://localhost:8080/",
          "height": 34
        }
      },
      "cell_type": "code",
      "source": [
        "import random\n",
        "import pathlib \n",
        "\n",
        "## Create a list of all the images to use in the tf.data pipeline\n",
        "## This list is trimmed to have an equal amount of tumor/non_tumor images to help w training\n",
        "## In future steps, I think we should use data augmentation to increase the number of tumor cells,\n",
        "## not decrease the amount of non-tumor cells. \n",
        "\n",
        "img_num = slide_path.split('_')[1].strip(\".tif\")\n",
        "\n",
        "# data_root = pathlib.Path('/content/data')\n",
        "# all_image_paths = list(data_root.glob('*'))\n",
        "# all_image_paths = [str(path) for path in all_image_paths]\n",
        "# random.shuffle(all_image_paths)\n",
        "\n",
        "data_root_tumor        = pathlib.Path('data/'+ img_num + '/tumor')\n",
        "all_image_paths_tumor = list(data_root_tumor.glob('*'))\n",
        "num_tumor_images = len(all_image_paths_tumor)\n",
        "\n",
        "data_root_notumor       = pathlib.Path('data/'+ img_num + '/no_tumor')\n",
        "all_image_paths_notumor = list(data_root_notumor.glob('*'))\n",
        "random.shuffle(all_image_paths_notumor)\n",
        "all_image_paths_notumor = all_image_paths_notumor[0:num_tumor_images]\n",
        "\n",
        "print(len(all_image_paths_tumor), len(all_image_paths_notumor))\n",
        "\n",
        "# Create a list of strings containing the path of every image we will put in the pipeline, shuffle\n",
        "all_image_paths = [str(path) for path in all_image_paths_tumor + all_image_paths_notumor]\n",
        "random.shuffle(all_image_paths)\n"
      ],
      "execution_count": 21,
      "outputs": [
        {
          "output_type": "stream",
          "text": [
            "83 83\n"
          ],
          "name": "stdout"
        }
      ]
    },
    {
      "metadata": {
        "colab_type": "code",
        "id": "HKE_gX2MUeN6",
        "outputId": "0c661fd9-7b78-41a4-e67a-4451cc371082",
        "colab": {
          "base_uri": "https://localhost:8080/",
          "height": 51
        }
      },
      "cell_type": "code",
      "source": [
        "## Find the corresponding indices of these images\n",
        "data_root = pathlib.Path('data')\n",
        "label_names = sorted(item.name for item in data_root.glob(img_num+'/*') if item.is_dir())\n",
        "label_to_index = dict((name, index) for index,name in enumerate(label_names))\n",
        "all_image_labels = [label_to_index[pathlib.Path(path).parent.name]\n",
        "                    for path in all_image_paths]\n",
        "\n",
        "print(\"First 10 labels indices: \", all_image_labels[:10])\n",
        "print(len(all_image_labels))"
      ],
      "execution_count": 22,
      "outputs": [
        {
          "output_type": "stream",
          "text": [
            "First 10 labels indices:  [1, 1, 0, 1, 0, 1, 1, 1, 0, 1]\n",
            "166\n"
          ],
          "name": "stdout"
        }
      ]
    },
    {
      "metadata": {
        "colab_type": "code",
        "id": "EHkDARz88ewl",
        "colab": {}
      },
      "cell_type": "code",
      "source": [
        "## Helper functions for the pipeline (resize to 128x128)\n",
        "def preprocess_image(image):\n",
        "    image = tf.image.decode_jpeg(image, channels=3)\n",
        "    image = tf.image.resize_images(image, [128, 128])\n",
        "    image /= 255.0  # normalize to [0,1] range\n",
        "\n",
        "    return image\n",
        "\n",
        "def load_and_preprocess_image(path):\n",
        "    image = tf.read_file(path)\n",
        "    return preprocess_image(image)"
      ],
      "execution_count": 0,
      "outputs": []
    },
    {
      "metadata": {
        "colab_type": "code",
        "id": "7I77MmLjAuwi",
        "outputId": "da58910c-5374-4ef8-cc8b-4dd5496ba8be",
        "colab": {
          "base_uri": "https://localhost:8080/",
          "height": 85
        }
      },
      "cell_type": "code",
      "source": [
        "## Create the tf dataset\n",
        "path_ds = tf.data.Dataset.from_tensor_slices(all_image_paths)\n",
        "print('shape: ', repr(path_ds.output_shapes))\n",
        "print('type: ', path_ds.output_types)\n",
        "print()\n",
        "print(path_ds)"
      ],
      "execution_count": 24,
      "outputs": [
        {
          "output_type": "stream",
          "text": [
            "shape:  TensorShape([])\n",
            "type:  <dtype: 'string'>\n",
            "\n",
            "<TensorSliceDataset shapes: (), types: tf.string>\n"
          ],
          "name": "stdout"
        }
      ]
    },
    {
      "metadata": {
        "colab_type": "code",
        "id": "XasU06TUA_W4",
        "colab": {}
      },
      "cell_type": "code",
      "source": [
        "## Create a pipeline of helper-functions for images loaded into the dataset\n",
        "image_ds = path_ds.map(load_and_preprocess_image, num_parallel_calls=8)"
      ],
      "execution_count": 0,
      "outputs": []
    },
    {
      "metadata": {
        "colab_type": "code",
        "id": "kWPk1_NRBxXs",
        "outputId": "34c6e780-eaf6-4082-8cc6-e9c234db1208",
        "colab": {
          "base_uri": "https://localhost:8080/",
          "height": 187
        }
      },
      "cell_type": "code",
      "source": [
        "## Convert image labels to their indices for the dataset\n",
        "label_ds = tf.data.Dataset.from_tensor_slices(tf.cast(all_image_labels, tf.int64))\n",
        "for label in label_ds.take(10):\n",
        "    print(label_names[label.numpy()])"
      ],
      "execution_count": 26,
      "outputs": [
        {
          "output_type": "stream",
          "text": [
            "tumor\n",
            "tumor\n",
            "no_tumor\n",
            "tumor\n",
            "no_tumor\n",
            "tumor\n",
            "tumor\n",
            "tumor\n",
            "no_tumor\n",
            "tumor\n"
          ],
          "name": "stdout"
        }
      ]
    },
    {
      "metadata": {
        "colab_type": "code",
        "id": "aFPjl4E1BzMp",
        "colab": {}
      },
      "cell_type": "code",
      "source": [
        "## Zip up the images and label indices\n",
        "image_label_ds = tf.data.Dataset.zip((image_ds, label_ds))"
      ],
      "execution_count": 0,
      "outputs": []
    },
    {
      "metadata": {
        "colab_type": "code",
        "id": "0nkeEC18Bzbu",
        "outputId": "646d79c1-8cdb-4636-b833-6df8624e641e",
        "colab": {
          "base_uri": "https://localhost:8080/",
          "height": 102
        }
      },
      "cell_type": "code",
      "source": [
        "print('image shape: ', image_label_ds.output_shapes[0])\n",
        "print('label shape: ', image_label_ds.output_shapes[1])\n",
        "print('types: ', image_label_ds.output_types)\n",
        "print()\n",
        "print(image_label_ds)"
      ],
      "execution_count": 28,
      "outputs": [
        {
          "output_type": "stream",
          "text": [
            "image shape:  (128, 128, 3)\n",
            "label shape:  ()\n",
            "types:  (tf.float32, tf.int64)\n",
            "\n",
            "<ZipDataset shapes: ((128, 128, 3), ()), types: (tf.float32, tf.int64)>\n"
          ],
          "name": "stdout"
        }
      ]
    },
    {
      "metadata": {
        "colab_type": "code",
        "id": "6LTst-MvCUgJ",
        "outputId": "8b3a0c71-5356-4452-ebe7-9a71cb774a5f",
        "colab": {
          "base_uri": "https://localhost:8080/",
          "height": 34
        }
      },
      "cell_type": "code",
      "source": [
        "## Set parameters for the dataset\n",
        "BATCH_SIZE = 32\n",
        "\n",
        "# Setting a shuffle buffer size larger than the dataset ensures that the data is completely shuffled.\n",
        "ds = image_label_ds.repeat()\n",
        "ds = ds.shuffle(buffer_size=4000) \n",
        "ds = ds.batch(BATCH_SIZE)\n",
        "# `prefetch` lets the dataset fetches batches, asynchronously while the model is training.\n",
        "ds = ds.prefetch(1)\n",
        "ds"
      ],
      "execution_count": 29,
      "outputs": [
        {
          "output_type": "execute_result",
          "data": {
            "text/plain": [
              "<PrefetchDataset shapes: ((?, 128, 128, 3), (?,)), types: (tf.float32, tf.int64)>"
            ]
          },
          "metadata": {
            "tags": []
          },
          "execution_count": 29
        }
      ]
    },
    {
      "metadata": {
        "colab_type": "text",
        "id": "AWJ9U3SA4eg2"
      },
      "cell_type": "markdown",
      "source": [
        "## Train a model on imagenet and level 3 imagery only"
      ]
    },
    {
      "metadata": {
        "colab_type": "code",
        "id": "rzaz79JE2faC",
        "outputId": "d58967fa-f482-4c1c-a6bd-558fea583753",
        "colab": {
          "base_uri": "https://localhost:8080/",
          "height": 272
        }
      },
      "cell_type": "code",
      "source": [
        "from tensorflow.keras.applications import VGG16\n",
        "from tensorflow.keras import layers, models, optimizers\n",
        "\n",
        "## Create model in Keras, upload imagenet network + weights as convolution base\n",
        "conv_base = VGG16(weights='imagenet',\n",
        "                  include_top=False,\n",
        "                  input_shape=(128, 128, 3))\n",
        "conv_base.trainable = False\n",
        "\n",
        "model = models.Sequential()\n",
        "model.add(conv_base)\n",
        "model.add(layers.Flatten())\n",
        "model.add(layers.Dense(32, activation='relu'))\n",
        "model.add(layers.Dense(2, activation='softmax'))\n",
        "\n",
        "model.summary()\n",
        "# model2.summary()"
      ],
      "execution_count": 31,
      "outputs": [
        {
          "output_type": "stream",
          "text": [
            "_________________________________________________________________\n",
            "Layer (type)                 Output Shape              Param #   \n",
            "=================================================================\n",
            "vgg16 (Model)                (None, 4, 4, 512)         14714688  \n",
            "_________________________________________________________________\n",
            "flatten_1 (Flatten)          (None, 8192)              0         \n",
            "_________________________________________________________________\n",
            "dense_2 (Dense)              (None, 32)                262176    \n",
            "_________________________________________________________________\n",
            "dense_3 (Dense)              (None, 2)                 66        \n",
            "=================================================================\n",
            "Total params: 14,976,930\n",
            "Trainable params: 262,242\n",
            "Non-trainable params: 14,714,688\n",
            "_________________________________________________________________\n"
          ],
          "name": "stdout"
        }
      ]
    },
    {
      "metadata": {
        "colab_type": "code",
        "id": "RyLEofQesWlq",
        "outputId": "760e8d98-3bf7-4f3d-fc4d-ca8276a6661f",
        "colab": {
          "base_uri": "https://localhost:8080/",
          "height": 34
        }
      },
      "cell_type": "code",
      "source": [
        "print(model.output)"
      ],
      "execution_count": 32,
      "outputs": [
        {
          "output_type": "stream",
          "text": [
            "DeferredTensor('None', shape=(?, 2), dtype=float32)\n"
          ],
          "name": "stdout"
        }
      ]
    },
    {
      "metadata": {
        "colab_type": "code",
        "id": "N1dmJOcY4oVF",
        "colab": {}
      },
      "cell_type": "code",
      "source": [
        "## Compile the model\n",
        "model.compile(optimizer=tf.train.AdamOptimizer(),\n",
        "              loss=tf.keras.losses.sparse_categorical_crossentropy,\n",
        "              metrics=['acc'])"
      ],
      "execution_count": 0,
      "outputs": []
    },
    {
      "metadata": {
        "colab_type": "code",
        "id": "7mf3qMxiEM-M",
        "outputId": "b4c21ea7-7158-4776-c092-71844832944d",
        "colab": {
          "base_uri": "https://localhost:8080/",
          "height": 357
        }
      },
      "cell_type": "code",
      "source": [
        "## Train the model\n",
        "history = model.fit(ds, epochs=10, steps_per_epoch=int(np.ceil(len(all_image_paths)/BATCH_SIZE)))"
      ],
      "execution_count": 35,
      "outputs": [
        {
          "output_type": "stream",
          "text": [
            "Epoch 1/10\n",
            "6/6 [==============================] - 5s 787ms/step - loss: 0.3437 - acc: 0.8802\n",
            "Epoch 2/10\n",
            "6/6 [==============================] - 2s 336ms/step - loss: 0.3112 - acc: 0.9115\n",
            "Epoch 3/10\n",
            "6/6 [==============================] - 2s 334ms/step - loss: 0.2884 - acc: 0.9167\n",
            "Epoch 4/10\n",
            "6/6 [==============================] - 2s 333ms/step - loss: 0.2864 - acc: 0.8646\n",
            "Epoch 5/10\n",
            "6/6 [==============================] - 2s 333ms/step - loss: 0.2333 - acc: 0.9583\n",
            "Epoch 6/10\n",
            "6/6 [==============================] - 2s 334ms/step - loss: 0.2608 - acc: 0.8958\n",
            "Epoch 7/10\n",
            "6/6 [==============================] - 2s 336ms/step - loss: 0.2416 - acc: 0.8750\n",
            "Epoch 8/10\n",
            "6/6 [==============================] - 2s 335ms/step - loss: 0.2387 - acc: 0.9271\n",
            "Epoch 9/10\n",
            "6/6 [==============================] - 2s 334ms/step - loss: 0.2581 - acc: 0.8594\n",
            "Epoch 10/10\n",
            "6/6 [==============================] - 2s 334ms/step - loss: 0.1906 - acc: 0.9583\n"
          ],
          "name": "stdout"
        }
      ]
    },
    {
      "metadata": {
        "colab_type": "code",
        "id": "FCUb8PRQuejm",
        "outputId": "4b568842-3615-42af-f912-4e5c01386fc6",
        "colab": {
          "base_uri": "https://localhost:8080/",
          "height": 580
        }
      },
      "cell_type": "code",
      "source": [
        "## Plot results\n",
        "import matplotlib.pyplot as plt\n",
        "\n",
        "print(history.history)\n",
        "\n",
        "acc = history.history['acc']\n",
        "loss = history.history['loss']\n",
        "# val_acc = history.history['val_loss']\n",
        "# val_loss = history.history['val_acc']\n",
        "\n",
        "epochs = range(1, len(acc) + 1)\n",
        "\n",
        "plt.plot(epochs, acc, 'bo', label='Training acc')\n",
        "# plt.plot(epochs, val_acc, 'b-', label = 'Validation accuracy')\n",
        "plt.title('Training and validation accuracy')\n",
        "plt.legend()\n",
        "\n",
        "plt.figure()\n",
        "\n",
        "plt.plot(epochs, loss, 'bo', label='Training loss')\n",
        "# plt.plot(epochs, val_loss, 'b-', label = 'Validation loss')\n",
        "plt.title('Training and validation loss')\n",
        "plt.legend()\n",
        "\n",
        "plt.show()"
      ],
      "execution_count": 36,
      "outputs": [
        {
          "output_type": "stream",
          "text": [
            "{'loss': [0.3437489718198776, 0.31120029588540393, 0.2883632332086563, 0.2863785574833552, 0.23331041385730109, 0.26081250607967377, 0.2416329731543859, 0.23867923766374588, 0.25813278555870056, 0.19057330985864004], 'acc': [0.8802083333333334, 0.9114583333333334, 0.9166666666666666, 0.8645833333333334, 0.9583333333333334, 0.8958333333333334, 0.875, 0.9270833333333334, 0.859375, 0.9583333333333334]}\n"
          ],
          "name": "stdout"
        },
        {
          "output_type": "display_data",
          "data": {
            "image/png": "[encoded data removed]",
            "text/plain": [
              "<matplotlib.figure.Figure at 0x7fec94abaa90>"
            ]
          },
          "metadata": {
            "tags": []
          }
        },
        {
          "output_type": "display_data",
          "data": {
            "image/png": "[encoded data removed]",
            "text/plain": [
              "<matplotlib.figure.Figure at 0x7fec94aba940>"
            ]
          },
          "metadata": {
            "tags": []
          }
        }
      ]
    },
    {
      "metadata": {
        "colab_type": "text",
        "id": "jSbVpUt_LpfS"
      },
      "cell_type": "markdown",
      "source": [
        "# Testing"
      ]
    },
    {
      "metadata": {
        "colab_type": "text",
        "id": "qDAzoXBgnpkG"
      },
      "cell_type": "markdown",
      "source": [
        "## Data preprocessing"
      ]
    },
    {
      "metadata": {
        "colab_type": "code",
        "id": "zb4rI9Z5EOQq",
        "outputId": "f1603a0c-3e40-4530-9396-1974fb54779d",
        "colab": {
          "base_uri": "https://localhost:8080/",
          "height": 119
        }
      },
      "cell_type": "code",
      "source": [
        "## Load in testing data\n",
        "!gsutil cp  gs://terry-columbia/deep_learning_final_project/tumor_110_mask.tif tumor_110_mask.tif\n",
        "!gsutil cp  gs://terry-columbia/deep_learning_final_project/tumor_110.tif tumor_110.tif"
      ],
      "execution_count": 37,
      "outputs": [
        {
          "output_type": "stream",
          "text": [
            "Copying gs://terry-columbia/deep_learning_final_project/tumor_110_mask.tif...\n",
            "- [1 files][ 31.4 MiB/ 31.4 MiB]                                                \n",
            "Operation completed over 1 objects/31.4 MiB.                                     \n",
            "Copying gs://terry-columbia/deep_learning_final_project/tumor_110.tif...\n",
            "\\ [1 files][  1.4 GiB/  1.4 GiB]   45.0 MiB/s                                   \n",
            "Operation completed over 1 objects/1.4 GiB.                                      \n"
          ],
          "name": "stdout"
        }
      ]
    },
    {
      "metadata": {
        "colab_type": "code",
        "id": "OvuNw1g6al88",
        "colab": {}
      },
      "cell_type": "code",
      "source": [
        "slide_path = 'tumor_110.tif'\n",
        "tumor_mask_path = 'tumor_110_mask.tif'\n",
        "\n",
        "slide = open_slide(slide_path)\n",
        "tumor_mask = open_slide(tumor_mask_path)"
      ],
      "execution_count": 0,
      "outputs": []
    },
    {
      "metadata": {
        "colab_type": "code",
        "id": "QtB2-8oba--n",
        "colab": {}
      },
      "cell_type": "code",
      "source": [
        "## Read in slide and tumor mask at a level 3\n",
        "level_num = 3\n",
        "\n",
        "slide_image = read_slide(slide, \n",
        "                         x=0, \n",
        "                         y=0, \n",
        "                         level=level_num, \n",
        "                         width=slide.level_dimensions[level_num][0], \n",
        "                         height=slide.level_dimensions[level_num][1])\n",
        "# plt.imshow(slide_image)\n",
        "# Example: read the mask at the same zoom\n",
        "mask_image = read_slide(tumor_mask, \n",
        "                        x=0, \n",
        "                        y=0, \n",
        "                        level=level_num, \n",
        "                        width=slide.level_dimensions[level_num][0], \n",
        "                        height=slide.level_dimensions[level_num][1])\n",
        "\n",
        "mask_image = mask_image[:,:,0]\n",
        "\n",
        "# plt.imshow(mask_image)\n",
        "# print(np.max(mask_image))\n"
      ],
      "execution_count": 0,
      "outputs": []
    },
    {
      "metadata": {
        "colab_type": "code",
        "id": "pu5k6PwAJJ_w",
        "outputId": "b0f40013-a15a-449a-aa6c-bb79ab6318be",
        "colab": {
          "base_uri": "https://localhost:8080/",
          "height": 34
        }
      },
      "cell_type": "code",
      "source": [
        "print(mask_image.shape)"
      ],
      "execution_count": 40,
      "outputs": [
        {
          "output_type": "stream",
          "text": [
            "(8960, 11776)\n"
          ],
          "name": "stdout"
        }
      ]
    },
    {
      "metadata": {
        "colab_type": "code",
        "id": "TwSHUvDBbfJg",
        "colab": {}
      },
      "cell_type": "code",
      "source": [
        "## Find regions that are tissue\n",
        "tissue_pixels = list(find_tissue_pixels(slide_image))\n",
        "tissue_regions = apply_mask(slide_image, tissue_pixels)"
      ],
      "execution_count": 0,
      "outputs": []
    },
    {
      "metadata": {
        "id": "WDswGYXh9Vnf",
        "colab_type": "code",
        "colab": {
          "base_uri": "https://localhost:8080/",
          "height": 51
        },
        "outputId": "8cb1f976-b476-4452-89af-ddc9cd1a6b8a"
      },
      "cell_type": "code",
      "source": [
        "print(tissue_regions.shape)\n",
        "print(np.max(tissue_regions))"
      ],
      "execution_count": 42,
      "outputs": [
        {
          "output_type": "stream",
          "text": [
            "(8960, 11776)\n",
            "1.0\n"
          ],
          "name": "stdout"
        }
      ]
    },
    {
      "metadata": {
        "colab_type": "code",
        "id": "1rR5RlSnzxfC",
        "colab": {}
      },
      "cell_type": "code",
      "source": [
        "## Create directories for testing\n",
        "## NOTE: These are different than the training directories\n",
        "## I created two -- one for all slices of the original testing image, and the \n",
        "## second for the image slices that contained > 0.7 tissue. Idk which one we will\n",
        "## end up testing on\n",
        "\n",
        "def initialize_directories_test(slide_path):\n",
        "    BASE_DIR = os.getcwd()\n",
        "    \n",
        "    img_num = slide_path.split('_')[1].strip(\".tif\")\n",
        "\n",
        "    \n",
        "    DATA = 'data/'\n",
        "    IMG_NUM_FOLDER = img_num + '/'\n",
        "    TISSUE_FOLDER = 'tissue_only/'\n",
        "    ALL_FOLDER    = 'all/'\n",
        "    \n",
        "    \n",
        "    DATA_DIR = os.path.join(BASE_DIR, DATA)\n",
        "    IMG_NUM_DIR = os.path.join(BASE_DIR, DATA, IMG_NUM_FOLDER)\n",
        "    TISSUE_DIR  = os.path.join(BASE_DIR, DATA, IMG_NUM_FOLDER, TISSUE_FOLDER)\n",
        "    ALL_DIR     = os.path.join(BASE_DIR, DATA, IMG_NUM_FOLDER, ALL_FOLDER)\n",
        "    \n",
        "    if not os.path.exists(DATA_DIR):\n",
        "        os.mkdir(DATA_DIR)\n",
        "    if not os.path.exists(IMG_NUM_DIR):\n",
        "        os.mkdir(IMG_NUM_DIR)\n",
        "    if not os.path.exists(TISSUE_DIR):\n",
        "        os.mkdir(TISSUE_DIR)\n",
        "    if not os.path.exists(ALL_DIR):\n",
        "        os.mkdir(ALL_DIR)\n",
        "    \n",
        "    \n",
        "    return DATA + IMG_NUM_FOLDER + TISSUE_FOLDER, DATA + IMG_NUM_FOLDER + ALL_FOLDER"
      ],
      "execution_count": 0,
      "outputs": []
    },
    {
      "metadata": {
        "colab_type": "code",
        "id": "TQFpkUqqzMki",
        "colab": {}
      },
      "cell_type": "code",
      "source": [
        "## Function to split and save test images, slightly different than analogous\n",
        "## function for training\n",
        "def split_image_test(im, tissue_mask, num_pixels, level_num, slide_path):\n",
        "    x,y = im.shape[0], im.shape[1]\n",
        "    x_count, y_count = int(np.ceil(x / num_pixels)), int(np.ceil(y/num_pixels))\n",
        "\n",
        "    tissue_folder, all_folder = initialize_directories_test(slide_path)\n",
        "    \n",
        "\n",
        "    try:\n",
        "        for i in range(x_count):\n",
        "            for j in range(y_count):\n",
        "                im_slice = np.zeros((num_pixels, num_pixels, 3))\n",
        "                im_tissue_slice = np.zeros((num_pixels, num_pixels, 3))\n",
        "                tissue_mask_slice = np.zeros((num_pixels, num_pixels))\n",
        "                \n",
        "                string_name = 'img_level%d_'%(level_num) + str(i * y_count + j)\n",
        "\n",
        "                if i == x_count-1:\n",
        "                    ub_x = x\n",
        "                    assign_x = x - (x_count-1)*num_pixels\n",
        "                else:\n",
        "                    ub_x = (i+1) * num_pixels\n",
        "                    assign_x = num_pixels\n",
        "\n",
        "                if j == y_count-1:\n",
        "                    ub_y = y\n",
        "                    assign_y = y - (y_count-1)*num_pixels\n",
        "                else:\n",
        "                    ub_y = (j+1) * num_pixels\n",
        "                    assign_y = num_pixels       \n",
        "\n",
        "                tissue_mask_slice[0:assign_x, 0:assign_y] = tissue_mask[(i*num_pixels) :ub_x, (j * num_pixels) :ub_y]\n",
        "\n",
        "                try:\n",
        "                    if np.mean(tissue_mask_slice) > 0.7:\n",
        "                        im_tissue_slice[0:assign_x, 0:assign_y, :] = im[(i*num_pixels) :ub_x, (j * num_pixels) :ub_y, :]\n",
        "                        im_file_name_tissue = tissue_folder + string_name + \".jpg\"\n",
        "                        cv2.imwrite(im_file_name_tissue, im_tissue_slice)\n",
        "                    \n",
        "                    \n",
        "                    im_slice[0:assign_x, 0:assign_y, :] = im[(i*num_pixels) :ub_x, (j * num_pixels) :ub_y, :]\n",
        "                    im_file_name_all = all_folder + string_name + \".jpg\"\n",
        "                    cv2.imwrite(im_file_name_all, im_slice)\n",
        "                     \n",
        "                except Exception as oerr:\n",
        "                    print('Error with saving:', oerr)\n",
        "    \n",
        "    except Exception as oerr:\n",
        "        print('Error with slicing:', oerr)  "
      ],
      "execution_count": 0,
      "outputs": []
    },
    {
      "metadata": {
        "colab_type": "code",
        "id": "4n-fvIX-7eFt",
        "colab": {}
      },
      "cell_type": "code",
      "source": [
        "# In case you need to delete the saved images and try again \n",
        "# !rm -r 'data/110'"
      ],
      "execution_count": 0,
      "outputs": []
    },
    {
      "metadata": {
        "colab_type": "code",
        "id": "p808JEBqcqNN",
        "colab": {}
      },
      "cell_type": "code",
      "source": [
        "## Generate new test image and mask slices\n",
        "num_pixels = 64\n",
        "level_num = 3\n",
        "\n",
        "split_image_test(slide_image, tissue_regions, num_pixels, level_num, slide_path)"
      ],
      "execution_count": 0,
      "outputs": []
    },
    {
      "metadata": {
        "colab_type": "text",
        "id": "PnGV2oV1oZ3Q"
      },
      "cell_type": "markdown",
      "source": [
        "## Create pipeline for testing data"
      ]
    },
    {
      "metadata": {
        "colab_type": "code",
        "id": "sxO80Z1xc9yg",
        "colab": {
          "base_uri": "https://localhost:8080/",
          "height": 34
        },
        "outputId": "7903f5ec-bac9-4871-b991-14c06601a21e"
      },
      "cell_type": "code",
      "source": [
        "## Create list of strings for a tf dataset\n",
        "img_num = slide_path.split('_')[1].strip(\".tif\")\n",
        "img_test_folder = 'tissue_only'\n",
        " \n",
        "data_root = pathlib.Path('data/'+ img_num + '/' + img_test_folder)\n",
        "all_image_paths = list(data_root.glob('*'))\n",
        "all_image_paths = [str(path) for path in all_image_paths]\n",
        "# random.shuffle(all_image_paths)\n",
        "print(len(all_image_paths))"
      ],
      "execution_count": 46,
      "outputs": [
        {
          "output_type": "stream",
          "text": [
            "7616\n"
          ],
          "name": "stdout"
        }
      ]
    },
    {
      "metadata": {
        "colab_type": "code",
        "id": "DszIR6RJy5uu",
        "outputId": "8a74101b-882a-477a-c4a6-003aaaf6c3ba",
        "colab": {
          "base_uri": "https://localhost:8080/",
          "height": 85
        }
      },
      "cell_type": "code",
      "source": [
        "## Create the tf dataset with the testing image paths\n",
        "path_ds = tf.data.Dataset.from_tensor_slices(all_image_paths)\n",
        "print('shape: ', repr(path_ds.output_shapes))\n",
        "print('type: ', path_ds.output_types)\n",
        "print()\n",
        "print(path_ds.output_shapes)"
      ],
      "execution_count": 47,
      "outputs": [
        {
          "output_type": "stream",
          "text": [
            "shape:  TensorShape([])\n",
            "type:  <dtype: 'string'>\n",
            "\n",
            "()\n"
          ],
          "name": "stdout"
        }
      ]
    },
    {
      "metadata": {
        "colab_type": "code",
        "id": "IwG2CeQtAMrP",
        "colab": {}
      },
      "cell_type": "code",
      "source": [
        "# Map the dataset to help functions\n",
        "image_ds = path_ds.map(load_and_preprocess_image, num_parallel_calls=8)"
      ],
      "execution_count": 0,
      "outputs": []
    },
    {
      "metadata": {
        "colab_type": "code",
        "id": "itkcJOTVARYI",
        "outputId": "b5aa7100-0d69-4830-c146-91e1642fca66",
        "colab": {
          "base_uri": "https://localhost:8080/",
          "height": 85
        }
      },
      "cell_type": "code",
      "source": [
        "## Zip up the image dataset (must be a tuple!)\n",
        "image_test_ds = tf.data.Dataset.zip((image_ds,))\n",
        "print('image shape: ', image_test_ds.output_shapes)\n",
        "print('types: ', image_test_ds.output_types)\n",
        "print()\n",
        "print(image_test_ds)"
      ],
      "execution_count": 49,
      "outputs": [
        {
          "output_type": "stream",
          "text": [
            "image shape:  (TensorShape([Dimension(128), Dimension(128), Dimension(3)]),)\n",
            "types:  (tf.float32,)\n",
            "\n",
            "<ZipDataset shapes: ((128, 128, 3),), types: (tf.float32,)>\n"
          ],
          "name": "stdout"
        }
      ]
    },
    {
      "metadata": {
        "colab_type": "code",
        "id": "zhwj-iN2AhNO",
        "outputId": "bf5032fa-69ca-4981-d025-1e283b7400be",
        "colab": {
          "base_uri": "https://localhost:8080/",
          "height": 34
        }
      },
      "cell_type": "code",
      "source": [
        "## Dataset parameters\n",
        "BATCH_SIZE = 32\n",
        "\n",
        "# Setting a shuffle buffer size larger than the dataset ensures that the data is completely shuffled.\n",
        "ds = image_test_ds.repeat()\n",
        "ds = ds.batch(BATCH_SIZE, drop_remainder = True)\n",
        "# `prefetch` lets the dataset fetches batches, asynchronously while the model is training.\n",
        "ds = ds.prefetch(1)\n",
        "ds"
      ],
      "execution_count": 50,
      "outputs": [
        {
          "output_type": "execute_result",
          "data": {
            "text/plain": [
              "<PrefetchDataset shapes: ((32, 128, 128, 3),), types: (tf.float32,)>"
            ]
          },
          "metadata": {
            "tags": []
          },
          "execution_count": 50
        }
      ]
    },
    {
      "metadata": {
        "colab_type": "text",
        "id": "1SZCmK7yo7Dd"
      },
      "cell_type": "markdown",
      "source": [
        "## Model prediction and results visualization"
      ]
    },
    {
      "metadata": {
        "colab_type": "code",
        "id": "em02dJxLA09Q",
        "colab": {}
      },
      "cell_type": "code",
      "source": [
        "## Predict tumor presence on test data\n",
        "test = model.predict(ds, steps = int(np.ceil(len(all_image_paths)/BATCH_SIZE )))"
      ],
      "execution_count": 0,
      "outputs": []
    },
    {
      "metadata": {
        "scrolled": true,
        "id": "ybC0s4yR9VoB",
        "colab_type": "code",
        "colab": {
          "base_uri": "https://localhost:8080/",
          "height": 34
        },
        "outputId": "1f5cd91d-2a57-4e1b-ffd9-3e121f424dfa"
      },
      "cell_type": "code",
      "source": [
        "test = test[0:len(all_image_paths), :]\n",
        "print(len(test))"
      ],
      "execution_count": 52,
      "outputs": [
        {
          "output_type": "stream",
          "text": [
            "7616\n"
          ],
          "name": "stdout"
        }
      ]
    },
    {
      "metadata": {
        "colab_type": "code",
        "id": "XFc5dCm-VtR9",
        "outputId": "c204cf54-7cce-4434-908a-db8ccfe4f775",
        "colab": {
          "base_uri": "https://localhost:8080/",
          "height": 34
        }
      },
      "cell_type": "code",
      "source": [
        "## Create mask containing test predictions\n",
        "img_num = np.zeros(len(all_image_paths))\n",
        "for i in range(len(all_image_paths)):\n",
        "    img_num[i] = int(all_image_paths[i].strip('.jpg').split('/')[-1].split('_')[-1])\n",
        "    \n",
        "depth, width = int(np.ceil(slide_image.shape[0]/num_pixels)), int(np.ceil(slide_image.shape[1]/num_pixels))\n",
        "\n",
        "print(depth, width)\n",
        "\n",
        "predictions = np.zeros((depth, width))\n",
        "conf_threshold = 0.7\n",
        "\n",
        "for i in range(len(test)):\n",
        "    y = int(img_num[i] // width)\n",
        "    x = int(np.mod(img_num[i], width))\n",
        "    predictions[y,x] = int(test[i][1] > conf_threshold)\n"
      ],
      "execution_count": 53,
      "outputs": [
        {
          "output_type": "stream",
          "text": [
            "140 184\n"
          ],
          "name": "stdout"
        }
      ]
    },
    {
      "metadata": {
        "colab_type": "code",
        "id": "XMV-cuIEc7LA",
        "outputId": "b0ab12cc-94a7-4569-f604-2653fbf6d773",
        "colab": {
          "base_uri": "https://localhost:8080/",
          "height": 823
        }
      },
      "cell_type": "code",
      "source": [
        "## Plot original image, prediction tumor mask, and actual tumor mask\n",
        "\n",
        "fig1, ax1 = plt.subplots()\n",
        "plt.imshow(tissue_regions)\n",
        "ax1.set_title(\"Original Image\")\n",
        "\n",
        "fig2, ax2 = plt.subplots()\n",
        "plt.imshow(predictions)\n",
        "ax2.set_title(\"Predicted Tumor Mask\")\n",
        "\n",
        "fig3, ax3 = plt.subplots()\n",
        "plt.imshow(mask_image)\n",
        "ax3.set_title(\"Actual Tumor Mask\")"
      ],
      "execution_count": 54,
      "outputs": [
        {
          "output_type": "execute_result",
          "data": {
            "text/plain": [
              "Text(0.5,1,'Actual Tumor Mask')"
            ]
          },
          "metadata": {
            "tags": []
          },
          "execution_count": 54
        },
        {
          "output_type": "display_data",
          "data": {
            "image/png": "[encoded data removed]",
            "text/plain": [
              "<matplotlib.figure.Figure at 0x7fec94aba240>"
            ]
          },
          "metadata": {
            "tags": []
          }
        },
        {
          "output_type": "display_data",
          "data": {
            "image/png": "[encoded data removed]",
            "text/plain": [
              "<matplotlib.figure.Figure at 0x7feb23f9d8d0>"
            ]
          },
          "metadata": {
            "tags": []
          }
        },
        {
          "output_type": "display_data",
          "data": {
            "image/png": "[encoded data removed]",
            "text/plain": [
              "<matplotlib.figure.Figure at 0x7fecc01eb320>"
            ]
          },
          "metadata": {
            "tags": []
          }
        }
      ]
    },
    {
      "metadata": {
        "colab_type": "code",
        "id": "61fYKZdUq0hL",
        "colab": {}
      },
      "cell_type": "code",
      "source": [
        ""
      ],
      "execution_count": 0,
      "outputs": []
    },
    {
      "metadata": {
        "colab_type": "text",
        "id": "BFIDEn-oqZ71"
      },
      "cell_type": "markdown",
      "source": [
        "# Evaluation"
      ]
    },
    {
      "metadata": {
        "colab_type": "code",
        "id": "9TfYlss5qe4O",
        "outputId": "cc454929-c772-4dd8-8a80-10d2cdaf57b5",
        "colab": {
          "base_uri": "https://localhost:8080/",
          "height": 105
        }
      },
      "cell_type": "code",
      "source": [
        "!pip install sklearn"
      ],
      "execution_count": 55,
      "outputs": [
        {
          "output_type": "stream",
          "text": [
            "Requirement already satisfied: sklearn in /usr/local/lib/python3.6/dist-packages (0.0)\n",
            "Requirement already satisfied: scikit-learn in /usr/local/lib/python3.6/dist-packages (from sklearn) (0.20.1)\n",
            "Requirement already satisfied: numpy>=1.8.2 in /usr/local/lib/python3.6/dist-packages (from scikit-learn->sklearn) (1.14.6)\n",
            "Requirement already satisfied: scipy>=0.13.3 in /usr/local/lib/python3.6/dist-packages (from scikit-learn->sklearn) (1.1.0)\n"
          ],
          "name": "stdout"
        }
      ]
    },
    {
      "metadata": {
        "colab_type": "code",
        "id": "29AJOGP5qe8D",
        "colab": {}
      },
      "cell_type": "code",
      "source": [
        "from sklearn.metrics import confusion_matrix,precision_score,recall_score,f1_score\n",
        "import pandas as pd"
      ],
      "execution_count": 0,
      "outputs": []
    },
    {
      "metadata": {
        "colab_type": "code",
        "id": "mxNWoxHxqbdM",
        "colab": {}
      },
      "cell_type": "code",
      "source": [
        "def heatmap_evaluation(predictions, tissue_regions, mask_image):\n",
        "  \n",
        "  # we only need to evaluate on areas which are tissue.\n",
        "  # correct non tumor prediction count would be higher if we get credit for \n",
        "  # predicting gray areas aren't tumors\n",
        "  \n",
        "  # find out the correct amount to scale predictions to match image\n",
        "  scale = int(mask_image.shape[0]/predictions.shape[0])\n",
        "  \n",
        "  # create scaled prediction matix\n",
        "  predictions_scaled = np.kron(predictions, np.ones((scale, scale)))\n",
        "  \n",
        "  # reshape everything to a 1D vector for easy computation\n",
        "  predictions_scaled = predictions_scaled.reshape(-1)\n",
        "  mask_image = mask_image.reshape(-1)\n",
        "  tissue_regions = tissue_regions.reshape(-1)\n",
        "  \n",
        "  # only include entries that have tissue \n",
        "  predictions_scaled = predictions_scaled[tissue_regions == 1]\n",
        "  mask_image = mask_image[tissue_regions == 1]\n",
        "  \n",
        "  # evaluate\n",
        "  p = precision_score(mask_image, predictions_scaled)\n",
        "  print('Precision:', p)\n",
        "  r = recall_score(mask_image, predictions_scaled)\n",
        "  print('Recall:', r)\n",
        "  f = f1_score(mask_image, predictions_scaled)\n",
        "  print('F1:', f)\n",
        "  cm = confusion_matrix(mask_image, predictions_scaled)\n",
        "  df_cm = pd.DataFrame(cm,columns = ['Predicted 0', 'Predicted 1'])\n",
        "  df_cm.index = ['Reality 0', 'Reality 1']\n",
        "  print('Confusion Matrix:')\n",
        "  df_cm = pd.DataFrame(cm,columns = ['Predicted 0', 'Predicted 1'])\n",
        "  df_cm.index = ['Reality 0', 'Reality 1']\n",
        "  print(df_cm)\n",
        "  df_cm_percent = df_cm\n",
        "  df_cm_percent['Predicted 0'] = 100*df_cm_percent['Predicted 0']/len(mask_image)\n",
        "  df_cm_percent['Predicted 1'] = 100*df_cm_percent['Predicted 1']/len(mask_image)\n",
        "  print(df_cm_percent)\n",
        "  \n"
      ],
      "execution_count": 0,
      "outputs": []
    },
    {
      "metadata": {
        "colab_type": "code",
        "id": "jBWLpOUsqdho",
        "outputId": "9e6035cf-5883-434e-9d50-57f3f7419b7c",
        "colab": {
          "base_uri": "https://localhost:8080/",
          "height": 187
        }
      },
      "cell_type": "code",
      "source": [
        "heatmap_evaluation(predictions, tissue_regions, mask_image)"
      ],
      "execution_count": 58,
      "outputs": [
        {
          "output_type": "stream",
          "text": [
            "Precision: 0.9663316711593811\n",
            "Recall: 0.5217751416565238\n",
            "F1: 0.6776500722448443\n",
            "Confusion Matrix:\n",
            "           Predicted 0  Predicted 1\n",
            "Reality 0     16196579       283997\n",
            "Reality 1      7470801      8151141\n",
            "           Predicted 0  Predicted 1\n",
            "Reality 0    50.452675     0.884656\n",
            "Reality 1    23.271698    25.390971\n"
          ],
          "name": "stdout"
        }
      ]
    },
    {
      "metadata": {
        "colab_type": "code",
        "id": "1KzBHa2DtJuP",
        "colab": {}
      },
      "cell_type": "code",
      "source": [
        ""
      ],
      "execution_count": 0,
      "outputs": []
    }
  ]
}