{
 "cells": [
  {
   "cell_type": "markdown",
   "metadata": {
    "colab_type": "text",
    "id": "gbfcNIvGeDQb"
   },
   "source": [
    "An example program that shows how to read slides and tumor masks from the [CAMELYON16](https://camelyon17.grand-challenge.org/Data/) dataset. \n",
    "\n",
    "* To run this code, first you will need to install [OpenSlide](https://openslide.org/), the only non-Python dependency. \n",
    "\n",
    "\n",
    "* Tissue masks were produced for each slide using [ASAP](https://github.com/computationalpathologygroup/ASAP) and the instructions on the competition website. I did this in advance for you, so you wouldn't have to spend energy installing ASAP on OSX (it has a variety of dependencies). This way, you'll only need to install OpenSlide.\n",
    "\n",
    "\n",
    "* OpenSlide also includes a [DeepZoom viewer](https://github.com/openslide/openslide-python/tree/master/examples/deepzoom) you can use to view the tissue images (after installing open slide, clone that repo, `cd` into the examples, and run `python deepzoom_server.py`.\n",
    "\n",
    "\n",
    "* You can find an example slide and tumor mask [here](https://drive.google.com/drive/folders/1rwWL8zU9v0M27BtQKI52bF6bVLW82RL5?usp=sharing).\n",
    "\n",
    "\n"
   ]
  },
  {
   "cell_type": "code",
   "execution_count": 1,
   "metadata": {
    "colab": {
     "base_uri": "https://localhost:8080/",
     "height": 1703
    },
    "colab_type": "code",
    "id": "sdt4a_EfjyYG",
    "outputId": "a358c5ad-a036-45e1-ed6d-8780564a728e"
   },
   "outputs": [],
   "source": [
    "import tensorflow as tf\n",
    "tf.enable_eager_execution()\n",
    "\n",
    "# !apt-get install openslide-tools\n",
    "# !pip install openslide-python\n",
    "# !pip install opencv-python"
   ]
  },
  {
   "cell_type": "code",
   "execution_count": 2,
   "metadata": {
    "colab": {
     "base_uri": "https://localhost:8080/",
     "height": 34
    },
    "colab_type": "code",
    "id": "FFreKySGeDQc",
    "outputId": "a0d0d5e6-1b5c-4a66-eac3-6484c646e7d8"
   },
   "outputs": [
    {
     "name": "stdout",
     "output_type": "stream",
     "text": [
      "3.4.1\n"
     ]
    }
   ],
   "source": [
    "%matplotlib inline\n",
    "import matplotlib.pyplot as plt\n",
    "import numpy as np\n",
    "from openslide import open_slide, __library_version__ as openslide_version\n",
    "from PIL import Image\n",
    "from skimage.color import rgb2gray\n",
    "import cv2\n",
    "import os\n",
    "os.environ['CUDA_VISIBLE_DEVICES'] = \"0,1\"\n",
    "print(openslide_version)"
   ]
  },
  {
   "cell_type": "code",
   "execution_count": 31,
   "metadata": {},
   "outputs": [
    {
     "data": {
      "text/plain": [
       "['/device:GPU:0', '/device:GPU:1']"
      ]
     },
     "execution_count": 31,
     "metadata": {},
     "output_type": "execute_result"
    }
   ],
   "source": [
    "from tensorflow.python.client import device_lib\n",
    "\n",
    "def get_available_gpus():\n",
    "    local_device_protos = device_lib.list_local_devices()\n",
    "    return [x.name for x in local_device_protos if x.device_type == 'GPU']\n",
    "get_available_gpus()"
   ]
  },
  {
   "cell_type": "markdown",
   "metadata": {
    "colab_type": "text",
    "id": "JK0cjlM8m93k"
   },
   "source": [
    "# Training"
   ]
  },
  {
   "cell_type": "markdown",
   "metadata": {
    "colab_type": "text",
    "id": "MfV4W8binmmF"
   },
   "source": [
    "## Data preprocessing"
   ]
  },
  {
   "cell_type": "code",
   "execution_count": 8,
   "metadata": {
    "colab": {
     "base_uri": "https://localhost:8080/",
     "height": 119
    },
    "colab_type": "code",
    "id": "qLoIzYp9o1TQ",
    "outputId": "f44895eb-a231-43b4-f431-70875f6454e6"
   },
   "outputs": [],
   "source": [
    "## Download training data -- image and tumor mask\n",
    "# !gsutil cp  gs://terry-columbia/deep_learning_final_project/tumor_091_mask.tif tumor_091_mask.tif\n",
    "# !gsutil cp  gs://terry-columbia/deep_learning_final_project/tumor_091.tif tumor_091.tif"
   ]
  },
  {
   "cell_type": "code",
   "execution_count": 9,
   "metadata": {},
   "outputs": [],
   "source": [
    "## This to remove data if you want to splice it at another size\n",
    "# !rm -r 'data'"
   ]
  },
  {
   "cell_type": "code",
   "execution_count": 3,
   "metadata": {
    "colab": {
     "base_uri": "https://localhost:8080/",
     "height": 204
    },
    "colab_type": "code",
    "id": "fJCTLGR8eDQg",
    "outputId": "ec31d374-b15b-4bd0-a48d-da21d6d1fe06"
   },
   "outputs": [
    {
     "name": "stdout",
     "output_type": "stream",
     "text": [
      "Read WSI from tumor_091.tif with width: 61440, height: 53760\n",
      "Read tumor mask from tumor_091_mask.tif\n",
      "Slide includes %d levels 8\n",
      "Level 0, dimensions: (61440, 53760) downsample factor 1\n",
      "Level 1, dimensions: (30720, 26880) downsample factor 2\n",
      "Level 2, dimensions: (15360, 13440) downsample factor 4\n",
      "Level 3, dimensions: (7680, 6720) downsample factor 8\n",
      "Level 4, dimensions: (3840, 3360) downsample factor 16\n",
      "Level 5, dimensions: (1920, 1680) downsample factor 32\n",
      "Level 6, dimensions: (960, 840) downsample factor 64\n",
      "Level 7, dimensions: (480, 420) downsample factor 128\n"
     ]
    }
   ],
   "source": [
    "## Load in training image and mask using openslide\n",
    "slide_path = 'tumor_091.tif'\n",
    "tumor_mask_path = 'tumor_091_mask.tif'\n",
    "\n",
    "slide = open_slide(slide_path)\n",
    "\n",
    "print (\"Read WSI from %s with width: %d, height: %d\" % (slide_path, \n",
    "                                                        slide.level_dimensions[0][0], \n",
    "                                                        slide.level_dimensions[0][1]))\n",
    "tumor_mask = open_slide(tumor_mask_path)\n",
    "print (\"Read tumor mask from %s\" % (tumor_mask_path))\n",
    "\n",
    "print(\"Slide includes %d levels\", len(slide.level_dimensions))\n",
    "for i in range(len(slide.level_dimensions)):\n",
    "    print(\"Level %d, dimensions: %s downsample factor %d\" % (i, \n",
    "                                                             slide.level_dimensions[i], \n",
    "                                                             slide.level_downsamples[i]))\n",
    "    assert tumor_mask.level_dimensions[i][0] == slide.level_dimensions[i][0]\n",
    "    assert tumor_mask.level_dimensions[i][1] == slide.level_dimensions[i][1]\n",
    "\n",
    "# Verify downsampling works as expected\n",
    "width, height = slide.level_dimensions[7]\n",
    "assert width * slide.level_downsamples[7] == slide.level_dimensions[0][0]\n",
    "assert height * slide.level_downsamples[7] == slide.level_dimensions[0][1]"
   ]
  },
  {
   "cell_type": "code",
   "execution_count": 4,
   "metadata": {
    "colab": {},
    "colab_type": "code",
    "id": "-M40bX56eDQl"
   },
   "outputs": [],
   "source": [
    "## Define a function to read the slide and convert it to a numpy array\n",
    "## Numpy array has depth = 3, channels = RGB \n",
    "\n",
    "def read_slide(slide, x, y, level, width, height, as_float=False):\n",
    "    im = slide.read_region((x,y), level, (width, height))\n",
    "    im = im.convert('RGB') # drop the alpha channel\n",
    "    if as_float:\n",
    "        im = np.asarray(im, dtype=np.float32)\n",
    "    else:\n",
    "        im = np.asarray(im)\n",
    "    assert im.shape == (height, width, 3)\n",
    "    return im"
   ]
  },
  {
   "cell_type": "code",
   "execution_count": 5,
   "metadata": {
    "colab": {},
    "colab_type": "code",
    "id": "_6ruCaJC0o2k"
   },
   "outputs": [],
   "source": [
    "# might be useful to add a method for reading masks?\n",
    "\n",
    "def read_slide_mask(slide, x, y, level, width, height, as_float=False):\n",
    "    im = slide.read_region((x,y), level, (width, height))\n",
    "    im = im.convert('RGB') # drop the alpha channel\n",
    "    if as_float:\n",
    "        im = np.asarray(im, dtype=np.float32)\n",
    "    else:\n",
    "        im = np.asarray(im)\n",
    "    assert im.shape == (height, width, 3)\n",
    "    return im[:,:,0]"
   ]
  },
  {
   "cell_type": "code",
   "execution_count": 6,
   "metadata": {
    "colab": {
     "base_uri": "https://localhost:8080/",
     "height": 286
    },
    "colab_type": "code",
    "id": "i_A4hYRxeDQm",
    "outputId": "f040d407-0d8b-48fc-f642-5d3891532bb7"
   },
   "outputs": [
    {
     "data": {
      "text/plain": [
       "<matplotlib.image.AxesImage at 0x7ff07ad0ea20>"
      ]
     },
     "execution_count": 6,
     "metadata": {},
     "output_type": "execute_result"
    },
    {
     "data": {
      "image/png": "[encoded data removed]",
      "text/plain": [
       "<Figure size 432x288 with 1 Axes>"
      ]
     },
     "metadata": {
      "needs_background": "light"
     },
     "output_type": "display_data"
    }
   ],
   "source": [
    "## Read training image at slide level 3\n",
    "num_level = 2\n",
    "slide_image = read_slide(slide, \n",
    "                         x=0, \n",
    "                         y=0, \n",
    "                         level=num_level, \n",
    "                         width=slide.level_dimensions[num_level][0], \n",
    "                         height=slide.level_dimensions[num_level][1])\n",
    "\n",
    "## Plot training image\n",
    "plt.imshow(slide_image)"
   ]
  },
  {
   "cell_type": "code",
   "execution_count": 7,
   "metadata": {
    "colab": {
     "base_uri": "https://localhost:8080/",
     "height": 286
    },
    "colab_type": "code",
    "id": "xnxYkCyxeDQq",
    "outputId": "05a5cb68-babd-4fc9-fc3f-13bc36d077ac"
   },
   "outputs": [
    {
     "data": {
      "text/plain": [
       "<matplotlib.image.AxesImage at 0x7ff0541909b0>"
      ]
     },
     "execution_count": 7,
     "metadata": {},
     "output_type": "execute_result"
    },
    {
     "data": {
      "image/png": "[encoded data removed]",
      "text/plain": [
       "<Figure size 432x288 with 1 Axes>"
      ]
     },
     "metadata": {
      "needs_background": "light"
     },
     "output_type": "display_data"
    }
   ],
   "source": [
    "## Read the training mask at the same level (slide level 3)\n",
    "## Any level below 3 causes memory overflow\n",
    "\n",
    "mask_image = read_slide(tumor_mask, \n",
    "                        x=0, \n",
    "                        y=0, \n",
    "                        level=num_level, \n",
    "                        width=slide.level_dimensions[num_level][0], \n",
    "                        height=slide.level_dimensions[num_level][1])\n",
    "\n",
    "## Convert the mask from RGB to a black/white binary\n",
    "mask_image = mask_image[:,:,0]\n",
    "\n",
    "# Plot training image masl\n",
    "plt.imshow(mask_image)\n"
   ]
  },
  {
   "cell_type": "code",
   "execution_count": 8,
   "metadata": {
    "colab": {},
    "colab_type": "code",
    "id": "urrjgZuYeDQt"
   },
   "outputs": [],
   "source": [
    "## Downsampling/zoom example, no real use as of yet.\n",
    "\n",
    "# Example: extract a region from the L7 downsampled image\n",
    "# Notice we're multiplying the x,y coordinates by the downsample factor\n",
    "# Here, we're \"aiming\" for the top right yellow blob in the image above.\n",
    "\n",
    "# region = read_slide(tumor_mask, x=350 * 128, y=120 * 128, level=7, width=50, height=50)[:,:,0]\n",
    "# plt.imshow(region)"
   ]
  },
  {
   "cell_type": "code",
   "execution_count": 9,
   "metadata": {
    "colab": {
     "base_uri": "https://localhost:8080/",
     "height": 303
    },
    "colab_type": "code",
    "id": "opUG-VhreDQw",
    "outputId": "bf38b370-ce9d-4883-b4d3-0097c4425534"
   },
   "outputs": [
    {
     "name": "stdout",
     "output_type": "stream",
     "text": [
      "52480540 tissue_pixels pixels (29.1 percent of the image)\n"
     ]
    }
   ],
   "source": [
    "## Determine the portions of the image that are tissue\n",
    "def find_tissue_pixels(image, intensity=0.8):\n",
    "    im_gray = rgb2gray(image)\n",
    "    assert im_gray.shape == (image.shape[0], image.shape[1])\n",
    "    indices = np.where(im_gray <= intensity)\n",
    "    return zip(indices[0], indices[1])\n",
    "\n",
    "tissue_pixels = list(find_tissue_pixels(slide_image))\n",
    "\n",
    "percent_tissue = len(tissue_pixels) / float(slide_image.shape[0] * slide_image.shape[0]) * 100\n",
    "print (\"%d tissue_pixels pixels (%.1f percent of the image)\" % (len(tissue_pixels), percent_tissue)) \n",
    "\n",
    "## Turn the tissue pixels into a mask\n",
    "def apply_mask(im, mask, color= 1): #[255,0,0]):\n",
    "#     masked = np.copy(im)\n",
    "    masked = np.zeros((im.shape[0], im.shape[1]))\n",
    "    for x,y in mask: masked[x][y] = color\n",
    "    return masked\n",
    "\n",
    "## Plot tissue regions\n",
    "tissue_regions = apply_mask(slide_image, tissue_pixels)\n",
    "# plt.imshow(tissue_regions)\n",
    "\n"
   ]
  },
  {
   "cell_type": "code",
   "execution_count": 10,
   "metadata": {
    "colab": {},
    "colab_type": "code",
    "id": "GqFszVYSIbQz"
   },
   "outputs": [],
   "source": [
    "## Define function to create directories to store slices of the training image\n",
    "def initialize_directories(slide_path):\n",
    "    BASE_DIR = os.getcwd()\n",
    "    \n",
    "    img_num = slide_path.split('_')[1].strip(\".tif\")\n",
    "\n",
    "    # Create a folder for each image\n",
    "    # Within that numbered image folder, create two other folders to hold the image slices \n",
    "    # that contain tumor cells and those that don't.\n",
    "    \n",
    "    DATA = 'data/'\n",
    "    IMG_NUM_FOLDER = img_num + '/'\n",
    "    TUMOR_FOLDER = 'tumor/'\n",
    "    NO_TUMOR_FOLDER = 'no_tumor/'\n",
    "    \n",
    "    DATA_DIR = os.path.join(BASE_DIR, DATA)\n",
    "    IMG_NUM_DIR = os.path.join(BASE_DIR, DATA, IMG_NUM_FOLDER)\n",
    "    TUMOR_DIR = os.path.join(BASE_DIR, DATA, IMG_NUM_FOLDER, TUMOR_FOLDER)\n",
    "    NO_TUMOR_DIR = os.path.join(BASE_DIR, DATA, IMG_NUM_FOLDER, NO_TUMOR_FOLDER)\n",
    "    \n",
    "    if not os.path.exists(DATA_DIR):\n",
    "        os.mkdir(DATA_DIR)\n",
    "    if not os.path.exists(IMG_NUM_DIR):\n",
    "        os.mkdir(IMG_NUM_DIR)\n",
    "    if not os.path.exists(TUMOR_DIR):\n",
    "        os.mkdir(TUMOR_DIR)\n",
    "    if not os.path.exists(NO_TUMOR_DIR):\n",
    "        os.mkdir(NO_TUMOR_DIR)\n",
    "    \n",
    "    # Return the locations of these folders for future use\n",
    "    return DATA + IMG_NUM_FOLDER + TUMOR_FOLDER, DATA + IMG_NUM_FOLDER + NO_TUMOR_FOLDER"
   ]
  },
  {
   "cell_type": "code",
   "execution_count": 11,
   "metadata": {
    "colab": {},
    "colab_type": "code",
    "id": "QdHnWVvYznk4"
   },
   "outputs": [],
   "source": [
    "## Define a function to split the image into slices and place them in the proper folder\n",
    "def split_image_and_mask(im, tumor_mask, tissue_mask,  num_pixels, level, slide_path):\n",
    "    x,y = im.shape[0], im.shape[1]\n",
    "    \n",
    "    # Find the number of image slices that the original image will split into\n",
    "    x_count, y_count = int(np.ceil(x / num_pixels)), int(np.ceil(y/num_pixels))\n",
    "\n",
    "    tumor_folder, no_tumor_folder = initialize_directories(slide_path)\n",
    "  \n",
    "\n",
    "    try:\n",
    "        for i in range(x_count):\n",
    "            for j in range(y_count):\n",
    "                im_slice = np.zeros((num_pixels, num_pixels, 3))\n",
    "                tissue_mask_slice = np.zeros((num_pixels, num_pixels))\n",
    "                tumor_mask_slice = np.zeros((num_pixels, num_pixels))\n",
    "\n",
    "                # Name the image slice based on where it lies in the original image\n",
    "                string_name = 'img_level%d_'%(level) + str(i * y_count + j)\n",
    "\n",
    "                # Logic to handle end conditions\n",
    "                if i == x_count-1:\n",
    "                    ub_x = x\n",
    "                    assign_x = x - (x_count-1)*num_pixels\n",
    "                else:\n",
    "                    ub_x = (i+1) * num_pixels\n",
    "                    assign_x = num_pixels\n",
    "\n",
    "                if j == y_count-1:\n",
    "                    ub_y = y\n",
    "                    assign_y = y - (y_count-1)*num_pixels\n",
    "                else:\n",
    "                    ub_y = (j+1) * num_pixels\n",
    "                    assign_y = num_pixels       \n",
    "                \n",
    "                # Assign the pixels to the slice of the tissue mas\n",
    "                tissue_mask_slice[0:assign_x, 0:assign_y] = tissue_mask[(i*num_pixels) :ub_x, (j * num_pixels) :ub_y]\n",
    "\n",
    "                try:\n",
    "                    # If 70% of the slice is tissue, process with classifying the slice\n",
    "                    # (tumor/no tumor) and saving \n",
    "                    if np.mean(tissue_mask_slice) > 0.7:\n",
    "                        im_slice[0:assign_x, 0:assign_y, :] = im[(i*num_pixels) :ub_x, (j * num_pixels) :ub_y, :]\n",
    "                        tumor_mask_slice[0:assign_x, 0:assign_y] = tumor_mask[(i*num_pixels) :ub_x, (j * num_pixels) :ub_y]\n",
    "\n",
    "                        if np.max(tumor_mask_slice) > 0:\n",
    "                            im_file_name = tumor_folder + string_name + \".jpg\" \n",
    "                        else:\n",
    "                           im_file_name = no_tumor_folder + string_name + \".jpg\"\n",
    "                        \n",
    "                        cv2.imwrite(im_file_name, im_slice)\n",
    "                except Exception as oerr:\n",
    "                    print('Error with saving:', oerr)\n",
    "    except Exception as oerr:\n",
    "        print('Error with slicing:', oerr)\n",
    "                    "
   ]
  },
  {
   "cell_type": "code",
   "execution_count": 12,
   "metadata": {
    "colab": {},
    "colab_type": "code",
    "id": "xMNONBDyL9vc"
   },
   "outputs": [],
   "source": [
    "## Call the split function on the training data\n",
    "## Break into 64 pixels (no real reason for this number)\n",
    "num_pixels = 64\n",
    "split_image_and_mask(slide_image, mask_image, tissue_regions, num_pixels, num_level, slide_path)"
   ]
  },
  {
   "cell_type": "markdown",
   "metadata": {
    "colab_type": "text",
    "id": "h_jEqmS3Sc8G"
   },
   "source": [
    "## Create pipeline for training data"
   ]
  },
  {
   "cell_type": "code",
   "execution_count": 13,
   "metadata": {
    "colab": {
     "base_uri": "https://localhost:8080/",
     "height": 34
    },
    "colab_type": "code",
    "id": "Br0pVOXeMvyb",
    "outputId": "2ea1816f-0409-4ba4-a912-84a46736792c"
   },
   "outputs": [
    {
     "data": {
      "text/plain": [
       "{'no_tumor': 0, 'tumor': 1}"
      ]
     },
     "execution_count": 13,
     "metadata": {},
     "output_type": "execute_result"
    }
   ],
   "source": [
    "## Give the labels a corresponding index\n",
    "label_names = sorted(['tumor', 'no_tumor'])\n",
    "label_to_index = dict((name, index) for index,name in enumerate(label_names))\n",
    "label_to_index"
   ]
  },
  {
   "cell_type": "code",
   "execution_count": 14,
   "metadata": {
    "colab": {
     "base_uri": "https://localhost:8080/",
     "height": 34
    },
    "colab_type": "code",
    "id": "OMk0HN3TNHci",
    "outputId": "5f1db19d-b42c-41a2-f5dd-73398e6e203c"
   },
   "outputs": [
    {
     "name": "stdout",
     "output_type": "stream",
     "text": [
      "923 923\n"
     ]
    }
   ],
   "source": [
    "import random\n",
    "import pathlib \n",
    "\n",
    "## Create a list of all the images to use in the tf.data pipeline\n",
    "## This list is trimmed to have an equal amount of tumor/non_tumor images to help w training\n",
    "## In future steps, I think we should use data augmentation to increase the number of tumor cells,\n",
    "## not decrease the amount of non-tumor cells. \n",
    "\n",
    "img_num = slide_path.split('_')[1].strip(\".tif\")\n",
    "\n",
    "# data_root = pathlib.Path('/content/data')\n",
    "# all_image_paths = list(data_root.glob('*'))\n",
    "# all_image_paths = [str(path) for path in all_image_paths]\n",
    "# random.shuffle(all_image_paths)\n",
    "\n",
    "data_root_tumor        = pathlib.Path('data/'+ img_num + '/tumor')\n",
    "all_image_paths_tumor = list(data_root_tumor.glob('*'))\n",
    "num_tumor_images = len(all_image_paths_tumor)\n",
    "\n",
    "data_root_notumor       = pathlib.Path('data/'+ img_num + '/no_tumor')\n",
    "all_image_paths_notumor = list(data_root_notumor.glob('*'))\n",
    "random.shuffle(all_image_paths_notumor)\n",
    "all_image_paths_notumor = all_image_paths_notumor[0:num_tumor_images]\n",
    "\n",
    "print(len(all_image_paths_tumor), len(all_image_paths_notumor))\n",
    "\n",
    "# Create a list of strings containing the path of every image we will put in the pipeline, shuffle\n",
    "all_image_paths = [str(path) for path in all_image_paths_tumor + all_image_paths_notumor]\n",
    "random.shuffle(all_image_paths)\n"
   ]
  },
  {
   "cell_type": "code",
   "execution_count": 15,
   "metadata": {
    "colab": {
     "base_uri": "https://localhost:8080/",
     "height": 51
    },
    "colab_type": "code",
    "id": "HKE_gX2MUeN6",
    "outputId": "489c996a-edcb-4ac7-bfc9-812ea51e853e"
   },
   "outputs": [
    {
     "name": "stdout",
     "output_type": "stream",
     "text": [
      "First 10 labels indices:  [0, 0, 1, 0, 1, 1, 1, 1, 0, 0]\n",
      "1846\n"
     ]
    }
   ],
   "source": [
    "## Find the corresponding indices of these images\n",
    "data_root = pathlib.Path('data')\n",
    "label_names = sorted(item.name for item in data_root.glob(img_num+'/*') if item.is_dir())\n",
    "label_to_index = dict((name, index) for index,name in enumerate(label_names))\n",
    "all_image_labels = [label_to_index[pathlib.Path(path).parent.name]\n",
    "                    for path in all_image_paths]\n",
    "\n",
    "print(\"First 10 labels indices: \", all_image_labels[:10])\n",
    "print(len(all_image_labels))"
   ]
  },
  {
   "cell_type": "code",
   "execution_count": 16,
   "metadata": {
    "colab": {},
    "colab_type": "code",
    "id": "EHkDARz88ewl"
   },
   "outputs": [],
   "source": [
    "## Helper functions for the pipeline (resize to 128x128)\n",
    "def preprocess_image(image):\n",
    "    image = tf.image.decode_jpeg(image, channels=3)\n",
    "    image = tf.image.resize_images(image, [128, 128])\n",
    "    image /= 255.0  # normalize to [0,1] range\n",
    "\n",
    "    return image\n",
    "\n",
    "def load_and_preprocess_image(path):\n",
    "    image = tf.read_file(path)\n",
    "    return preprocess_image(image)"
   ]
  },
  {
   "cell_type": "code",
   "execution_count": 17,
   "metadata": {
    "colab": {
     "base_uri": "https://localhost:8080/",
     "height": 85
    },
    "colab_type": "code",
    "id": "7I77MmLjAuwi",
    "outputId": "5f77297f-df37-4fc1-db25-820800e9b883"
   },
   "outputs": [
    {
     "name": "stdout",
     "output_type": "stream",
     "text": [
      "shape:  TensorShape([])\n",
      "type:  <dtype: 'string'>\n",
      "\n",
      "<TensorSliceDataset shapes: (), types: tf.string>\n"
     ]
    }
   ],
   "source": [
    "## Create the tf dataset\n",
    "path_ds = tf.data.Dataset.from_tensor_slices(all_image_paths)\n",
    "print('shape: ', repr(path_ds.output_shapes))\n",
    "print('type: ', path_ds.output_types)\n",
    "print()\n",
    "print(path_ds)"
   ]
  },
  {
   "cell_type": "code",
   "execution_count": 18,
   "metadata": {
    "colab": {},
    "colab_type": "code",
    "id": "XasU06TUA_W4"
   },
   "outputs": [],
   "source": [
    "## Create a pipeline of helper-functions for images loaded into the dataset\n",
    "image_ds = path_ds.map(load_and_preprocess_image, num_parallel_calls=8)"
   ]
  },
  {
   "cell_type": "code",
   "execution_count": 19,
   "metadata": {
    "colab": {
     "base_uri": "https://localhost:8080/",
     "height": 187
    },
    "colab_type": "code",
    "id": "kWPk1_NRBxXs",
    "outputId": "7c9cd09a-4908-4d26-cd05-78471b720929"
   },
   "outputs": [
    {
     "name": "stdout",
     "output_type": "stream",
     "text": [
      "no_tumor\n",
      "no_tumor\n",
      "tumor\n",
      "no_tumor\n",
      "tumor\n",
      "tumor\n",
      "tumor\n",
      "tumor\n",
      "no_tumor\n",
      "no_tumor\n"
     ]
    }
   ],
   "source": [
    "## Convert image labels to their indices for the dataset\n",
    "label_ds = tf.data.Dataset.from_tensor_slices(tf.cast(all_image_labels, tf.int64))\n",
    "for label in label_ds.take(10):\n",
    "    print(label_names[label.numpy()])"
   ]
  },
  {
   "cell_type": "code",
   "execution_count": 20,
   "metadata": {
    "colab": {},
    "colab_type": "code",
    "id": "aFPjl4E1BzMp"
   },
   "outputs": [],
   "source": [
    "## Zip up the images and label indices\n",
    "image_label_ds = tf.data.Dataset.zip((image_ds, label_ds))"
   ]
  },
  {
   "cell_type": "code",
   "execution_count": 21,
   "metadata": {
    "colab": {
     "base_uri": "https://localhost:8080/",
     "height": 102
    },
    "colab_type": "code",
    "id": "0nkeEC18Bzbu",
    "outputId": "ccb7d6db-b37a-4b45-ba91-87abdb643663"
   },
   "outputs": [
    {
     "name": "stdout",
     "output_type": "stream",
     "text": [
      "image shape:  (128, 128, 3)\n",
      "label shape:  ()\n",
      "types:  (tf.float32, tf.int64)\n",
      "\n",
      "<ZipDataset shapes: ((128, 128, 3), ()), types: (tf.float32, tf.int64)>\n"
     ]
    }
   ],
   "source": [
    "print('image shape: ', image_label_ds.output_shapes[0])\n",
    "print('label shape: ', image_label_ds.output_shapes[1])\n",
    "print('types: ', image_label_ds.output_types)\n",
    "print()\n",
    "print(image_label_ds)"
   ]
  },
  {
   "cell_type": "code",
   "execution_count": 22,
   "metadata": {
    "colab": {
     "base_uri": "https://localhost:8080/",
     "height": 34
    },
    "colab_type": "code",
    "id": "6LTst-MvCUgJ",
    "outputId": "9c31b03d-9441-40ba-8518-4d08a95929c0"
   },
   "outputs": [
    {
     "data": {
      "text/plain": [
       "<PrefetchDataset shapes: ((?, 128, 128, 3), (?,)), types: (tf.float32, tf.int64)>"
      ]
     },
     "execution_count": 22,
     "metadata": {},
     "output_type": "execute_result"
    }
   ],
   "source": [
    "## Set parameters for the dataset\n",
    "BATCH_SIZE = 32\n",
    "\n",
    "# Setting a shuffle buffer size larger than the dataset ensures that the data is completely shuffled.\n",
    "ds = image_label_ds.repeat()\n",
    "ds = ds.shuffle(buffer_size=4000) \n",
    "ds = ds.batch(BATCH_SIZE)\n",
    "# `prefetch` lets the dataset fetches batches, asynchronously while the model is training.\n",
    "ds = ds.prefetch(1)\n",
    "ds"
   ]
  },
  {
   "cell_type": "markdown",
   "metadata": {
    "colab_type": "text",
    "id": "AWJ9U3SA4eg2"
   },
   "source": [
    "## Train a model on imagenet and level 3 imagery only"
   ]
  },
  {
   "cell_type": "code",
   "execution_count": 23,
   "metadata": {
    "colab": {
     "base_uri": "https://localhost:8080/",
     "height": 326
    },
    "colab_type": "code",
    "id": "rzaz79JE2faC",
    "outputId": "0a4a3864-61d9-4b77-8460-82815f65df08"
   },
   "outputs": [
    {
     "name": "stdout",
     "output_type": "stream",
     "text": [
      "_________________________________________________________________\n",
      "Layer (type)                 Output Shape              Param #   \n",
      "=================================================================\n",
      "vgg16 (Model)                (None, 4, 4, 512)         14714688  \n",
      "_________________________________________________________________\n",
      "flatten (Flatten)            (None, 8192)              0         \n",
      "_________________________________________________________________\n",
      "dense (Dense)                (None, 32)                262176    \n",
      "_________________________________________________________________\n",
      "dense_1 (Dense)              (None, 2)                 66        \n",
      "=================================================================\n",
      "Total params: 14,976,930\n",
      "Trainable params: 262,242\n",
      "Non-trainable params: 14,714,688\n",
      "_________________________________________________________________\n"
     ]
    }
   ],
   "source": [
    "from tensorflow.keras.applications import VGG16\n",
    "from tensorflow.keras import layers, models, optimizers\n",
    "\n",
    "## Create model in Keras, upload imagenet network + weights as convolution base\n",
    "conv_base = VGG16(weights='imagenet',\n",
    "                  include_top=False,\n",
    "                  input_shape=(128, 128, 3))\n",
    "conv_base.trainable = False\n",
    "\n",
    "model = models.Sequential()\n",
    "model.add(conv_base)\n",
    "model.add(layers.Flatten())\n",
    "# model.add(layers.GlobalAveragePooling2D())\n",
    "model.add(layers.Dense(32, activation='relu'))\n",
    "model.add(layers.Dense(2, activation='softmax'))\n",
    "\n",
    "\n",
    "# model2 = models.Sequential()\n",
    "# model2.add(conv_base)\n",
    "# model2.add(layers.Flatten())\n",
    "# model2.add(layers.Dense(64, activation='relu'))\n",
    "# # model2.add(layers.Dense(10, activation='relu'))\n",
    "\n",
    "\n",
    "model.summary()\n",
    "# model2.summary()"
   ]
  },
  {
   "cell_type": "code",
   "execution_count": 24,
   "metadata": {
    "colab": {},
    "colab_type": "code",
    "id": "QlPQBVuQrW_X"
   },
   "outputs": [],
   "source": [
    "# from keras.models import Model    \n",
    "# from keras.layers import *\n",
    "# import tensorflow.keras.layers\n",
    "# from keras.layers import Dense, merge\n",
    "\n",
    "# model3 = models.Sequential()\n",
    "# model3.add(conv_base)\n",
    "# conc = model3.add(layers.Concatenate([model, model2]))\n",
    "\n",
    "\n"
   ]
  },
  {
   "cell_type": "code",
   "execution_count": 25,
   "metadata": {
    "colab": {
     "base_uri": "https://localhost:8080/",
     "height": 34
    },
    "colab_type": "code",
    "id": "RyLEofQesWlq",
    "outputId": "853e6a69-ced5-448e-db6d-0a154be702dd"
   },
   "outputs": [
    {
     "name": "stdout",
     "output_type": "stream",
     "text": [
      "DeferredTensor('None', shape=(?, 2), dtype=float32)\n"
     ]
    }
   ],
   "source": [
    "print(model.output)\n",
    "# conc = Concatenate()([model.output, model2.output])"
   ]
  },
  {
   "cell_type": "code",
   "execution_count": 26,
   "metadata": {
    "colab": {},
    "colab_type": "code",
    "id": "N1dmJOcY4oVF"
   },
   "outputs": [],
   "source": [
    "## Compile the model\n",
    "model.compile(optimizer=tf.train.AdamOptimizer(),\n",
    "              loss=tf.keras.losses.sparse_categorical_crossentropy,\n",
    "              metrics=['acc'])"
   ]
  },
  {
   "cell_type": "code",
   "execution_count": 27,
   "metadata": {
    "colab": {
     "base_uri": "https://localhost:8080/",
     "height": 357
    },
    "colab_type": "code",
    "id": "7mf3qMxiEM-M",
    "outputId": "64d895f4-efd4-4d8e-a674-0922dc4b1e8c"
   },
   "outputs": [
    {
     "name": "stdout",
     "output_type": "stream",
     "text": [
      "Epoch 1/5\n",
      "58/58 [==============================] - 27s 466ms/step - loss: 0.4560 - acc: 0.7958\n",
      "Epoch 2/5\n",
      "58/58 [==============================] - 20s 352ms/step - loss: 0.3345 - acc: 0.8648\n",
      "Epoch 3/5\n",
      "58/58 [==============================] - 20s 351ms/step - loss: 0.2760 - acc: 0.8912\n",
      "Epoch 4/5\n",
      "58/58 [==============================] - 20s 351ms/step - loss: 0.2626 - acc: 0.8955\n",
      "Epoch 5/5\n",
      "58/58 [==============================] - 20s 351ms/step - loss: 0.2300 - acc: 0.9111\n"
     ]
    }
   ],
   "source": [
    "## Train the model\n",
    "history = model.fit(ds, epochs=5, steps_per_epoch=int(np.ceil(len(all_image_paths)/BATCH_SIZE)))"
   ]
  },
  {
   "cell_type": "code",
   "execution_count": 35,
   "metadata": {
    "colab": {
     "base_uri": "https://localhost:8080/",
     "height": 580
    },
    "colab_type": "code",
    "id": "FCUb8PRQuejm",
    "outputId": "eee83f41-b1ac-4662-ee99-842e5d703cde"
   },
   "outputs": [
    {
     "name": "stdout",
     "output_type": "stream",
     "text": [
      "{'loss': [0.5178551851161595, 0.3739054999474821, 0.3223958362279267], 'acc': [0.775323275862069, 0.8356681034482759, 0.8658405172413793]}\n"
     ]
    },
    {
     "data": {
      "image/png": "[encoded data removed]",
      "text/plain": [
       "<Figure size 432x288 with 1 Axes>"
      ]
     },
     "metadata": {
      "needs_background": "light"
     },
     "output_type": "display_data"
    },
    {
     "data": {
      "image/png": "[encoded data removed]",
      "text/plain": [
       "<Figure size 432x288 with 1 Axes>"
      ]
     },
     "metadata": {
      "needs_background": "light"
     },
     "output_type": "display_data"
    }
   ],
   "source": [
    "## Plot results\n",
    "import matplotlib.pyplot as plt\n",
    "\n",
    "print(history.history)\n",
    "\n",
    "acc = history.history['acc']\n",
    "loss = history.history['loss']\n",
    "# val_acc = history.history['val_loss']\n",
    "# val_loss = history.history['val_acc']\n",
    "\n",
    "epochs = range(1, len(acc) + 1)\n",
    "\n",
    "plt.plot(epochs, acc, 'bo', label='Training acc')\n",
    "# plt.plot(epochs, val_acc, 'b-', label = 'Validation accuracy')\n",
    "plt.title('Training and validation accuracy')\n",
    "plt.legend()\n",
    "\n",
    "plt.figure()\n",
    "\n",
    "plt.plot(epochs, loss, 'bo', label='Training loss')\n",
    "# plt.plot(epochs, val_loss, 'b-', label = 'Validation loss')\n",
    "plt.title('Training and validation loss')\n",
    "plt.legend()\n",
    "\n",
    "plt.show()"
   ]
  },
  {
   "cell_type": "markdown",
   "metadata": {
    "colab_type": "text",
    "id": "jSbVpUt_LpfS"
   },
   "source": [
    "# Testing"
   ]
  },
  {
   "cell_type": "markdown",
   "metadata": {
    "colab_type": "text",
    "id": "qDAzoXBgnpkG"
   },
   "source": [
    "## Data preprocessing"
   ]
  },
  {
   "cell_type": "code",
   "execution_count": 0,
   "metadata": {
    "colab": {
     "base_uri": "https://localhost:8080/",
     "height": 119
    },
    "colab_type": "code",
    "id": "zb4rI9Z5EOQq",
    "outputId": "14317713-12f9-4db2-9745-ddfb75ad8297"
   },
   "outputs": [
    {
     "name": "stdout",
     "output_type": "stream",
     "text": [
      "Copying gs://terry-columbia/deep_learning_final_project/tumor_110_mask.tif...\n",
      "\\ [1 files][ 31.4 MiB/ 31.4 MiB]                                                \n",
      "Operation completed over 1 objects/31.4 MiB.                                     \n",
      "Copying gs://terry-columbia/deep_learning_final_project/tumor_110.tif...\n",
      "| [1 files][  1.4 GiB/  1.4 GiB]   24.9 MiB/s                                   \n",
      "Operation completed over 1 objects/1.4 GiB.                                      \n"
     ]
    }
   ],
   "source": [
    "## Load in testing data\n",
    "# !gsutil cp  gs://terry-columbia/deep_learning_final_project/tumor_110_mask.tif tumor_110_mask.tif\n",
    "# !gsutil cp  gs://terry-columbia/deep_learning_final_project/tumor_110.tif tumor_110.tif"
   ]
  },
  {
   "cell_type": "code",
   "execution_count": 36,
   "metadata": {
    "colab": {},
    "colab_type": "code",
    "id": "OvuNw1g6al88"
   },
   "outputs": [],
   "source": [
    "slide_path = 'tumor_110.tif'\n",
    "tumor_mask_path = 'tumor_110_mask.tif'\n",
    "\n",
    "slide = open_slide(slide_path)\n",
    "tumor_mask = open_slide(tumor_mask_path)"
   ]
  },
  {
   "cell_type": "code",
   "execution_count": 37,
   "metadata": {
    "colab": {},
    "colab_type": "code",
    "id": "QtB2-8oba--n"
   },
   "outputs": [],
   "source": [
    "## Read in slide and tumor mask at a level 3\n",
    "level_num = 2\n",
    "\n",
    "slide_image = read_slide(slide, \n",
    "                         x=0, \n",
    "                         y=0, \n",
    "                         level=level_num, \n",
    "                         width=slide.level_dimensions[level_num][0], \n",
    "                         height=slide.level_dimensions[level_num][1])\n",
    "# plt.imshow(slide_image)\n",
    "# Example: read the mask at the same zoom\n",
    "mask_image = read_slide(tumor_mask, \n",
    "                        x=0, \n",
    "                        y=0, \n",
    "                        level=level_num, \n",
    "                        width=slide.level_dimensions[level_num][0], \n",
    "                        height=slide.level_dimensions[level_num][1])\n",
    "\n",
    "mask_image = mask_image[:,:,0]\n",
    "\n",
    "# plt.imshow(mask_image)\n",
    "# print(np.max(mask_image))\n"
   ]
  },
  {
   "cell_type": "code",
   "execution_count": 38,
   "metadata": {
    "colab": {
     "base_uri": "https://localhost:8080/",
     "height": 34
    },
    "colab_type": "code",
    "id": "pu5k6PwAJJ_w",
    "outputId": "25d3d2a8-42a4-40a1-e12d-81ac9c3cd4d4"
   },
   "outputs": [
    {
     "name": "stdout",
     "output_type": "stream",
     "text": [
      "(17920, 23552)\n"
     ]
    }
   ],
   "source": [
    "print(mask_image.shape)"
   ]
  },
  {
   "cell_type": "code",
   "execution_count": 39,
   "metadata": {
    "colab": {},
    "colab_type": "code",
    "id": "TwSHUvDBbfJg"
   },
   "outputs": [],
   "source": [
    "## Find regions that are tissue\n",
    "tissue_pixels = list(find_tissue_pixels(slide_image))\n",
    "tissue_regions = apply_mask(slide_image, tissue_pixels)"
   ]
  },
  {
   "cell_type": "code",
   "execution_count": 81,
   "metadata": {},
   "outputs": [
    {
     "name": "stdout",
     "output_type": "stream",
     "text": [
      "(17920, 23552)\n",
      "1.0\n"
     ]
    }
   ],
   "source": [
    "print(tissue_regions.shape)\n",
    "print(np.max(tissue_regions))"
   ]
  },
  {
   "cell_type": "code",
   "execution_count": 40,
   "metadata": {
    "colab": {},
    "colab_type": "code",
    "id": "1rR5RlSnzxfC"
   },
   "outputs": [],
   "source": [
    "## Create directories for testing\n",
    "## NOTE: These are different than the training directories\n",
    "## I created two -- one for all slices of the original testing image, and the \n",
    "## second for the image slices that contained > 0.7 tissue. Idk which one we will\n",
    "## end up testing on\n",
    "\n",
    "def initialize_directories_test(slide_path):\n",
    "    BASE_DIR = os.getcwd()\n",
    "    \n",
    "    img_num = slide_path.split('_')[1].strip(\".tif\")\n",
    "\n",
    "    \n",
    "    DATA = 'data/'\n",
    "    IMG_NUM_FOLDER = img_num + '/'\n",
    "    TISSUE_FOLDER = 'tissue_only/'\n",
    "    ALL_FOLDER    = 'all/'\n",
    "    \n",
    "    \n",
    "    DATA_DIR = os.path.join(BASE_DIR, DATA)\n",
    "    IMG_NUM_DIR = os.path.join(BASE_DIR, DATA, IMG_NUM_FOLDER)\n",
    "    TISSUE_DIR  = os.path.join(BASE_DIR, DATA, IMG_NUM_FOLDER, TISSUE_FOLDER)\n",
    "    ALL_DIR     = os.path.join(BASE_DIR, DATA, IMG_NUM_FOLDER, ALL_FOLDER)\n",
    "    \n",
    "    if not os.path.exists(DATA_DIR):\n",
    "        os.mkdir(DATA_DIR)\n",
    "    if not os.path.exists(IMG_NUM_DIR):\n",
    "        os.mkdir(IMG_NUM_DIR)\n",
    "    if not os.path.exists(TISSUE_DIR):\n",
    "        os.mkdir(TISSUE_DIR)\n",
    "    if not os.path.exists(ALL_DIR):\n",
    "        os.mkdir(ALL_DIR)\n",
    "    \n",
    "    \n",
    "    return DATA + IMG_NUM_FOLDER + TISSUE_FOLDER, DATA + IMG_NUM_FOLDER + ALL_FOLDER"
   ]
  },
  {
   "cell_type": "code",
   "execution_count": 41,
   "metadata": {
    "colab": {},
    "colab_type": "code",
    "id": "TQFpkUqqzMki"
   },
   "outputs": [],
   "source": [
    "## Function to split and save test images, slightly different than analogous\n",
    "## function for training\n",
    "def split_image_test(im, tissue_mask, num_pixels, level_num, slide_path):\n",
    "    x,y = im.shape[0], im.shape[1]\n",
    "    x_count, y_count = int(np.ceil(x / num_pixels)), int(np.ceil(y/num_pixels))\n",
    "\n",
    "    tissue_folder, all_folder = initialize_directories_test(slide_path)\n",
    "    \n",
    "\n",
    "    try:\n",
    "        for i in range(x_count):\n",
    "            for j in range(y_count):\n",
    "                im_slice = np.zeros((num_pixels, num_pixels, 3))\n",
    "                im_tissue_slice = np.zeros((num_pixels, num_pixels, 3))\n",
    "                tissue_mask_slice = np.zeros((num_pixels, num_pixels))\n",
    "                \n",
    "                string_name = 'img_level%d_'%(level_num) + str(i * y_count + j)\n",
    "\n",
    "                if i == x_count-1:\n",
    "                    ub_x = x\n",
    "                    assign_x = x - (x_count-1)*num_pixels\n",
    "                else:\n",
    "                    ub_x = (i+1) * num_pixels\n",
    "                    assign_x = num_pixels\n",
    "\n",
    "                if j == y_count-1:\n",
    "                    ub_y = y\n",
    "                    assign_y = y - (y_count-1)*num_pixels\n",
    "                else:\n",
    "                    ub_y = (j+1) * num_pixels\n",
    "                    assign_y = num_pixels       \n",
    "\n",
    "                tissue_mask_slice[0:assign_x, 0:assign_y] = tissue_mask[(i*num_pixels) :ub_x, (j * num_pixels) :ub_y]\n",
    "\n",
    "                try:\n",
    "                    if np.mean(tissue_mask_slice) > 0.7:\n",
    "                        im_tissue_slice[0:assign_x, 0:assign_y, :] = im[(i*num_pixels) :ub_x, (j * num_pixels) :ub_y, :]\n",
    "                        im_file_name_tissue = tissue_folder + string_name + \".jpg\"\n",
    "                        cv2.imwrite(im_file_name_tissue, im_tissue_slice)\n",
    "                    \n",
    "                    \n",
    "                    im_slice[0:assign_x, 0:assign_y, :] = im[(i*num_pixels) :ub_x, (j * num_pixels) :ub_y, :]\n",
    "                    im_file_name_all = all_folder + string_name + \".jpg\"\n",
    "                    cv2.imwrite(im_file_name_all, im_slice)\n",
    "                     \n",
    "                except Exception as oerr:\n",
    "                    print('Error with saving:', oerr)\n",
    "    \n",
    "    except Exception as oerr:\n",
    "        print('Error with slicing:', oerr)  "
   ]
  },
  {
   "cell_type": "code",
   "execution_count": 0,
   "metadata": {
    "colab": {},
    "colab_type": "code",
    "id": "4n-fvIX-7eFt"
   },
   "outputs": [],
   "source": [
    "# In case you need to delete the saved images and try again \n",
    "# !rm -r 'data/110'"
   ]
  },
  {
   "cell_type": "code",
   "execution_count": 42,
   "metadata": {
    "colab": {},
    "colab_type": "code",
    "id": "p808JEBqcqNN"
   },
   "outputs": [],
   "source": [
    "## Generate new test image and mask slices\n",
    "num_pixels = 64\n",
    "level_num = 2\n",
    "\n",
    "split_image_test(slide_image, tissue_regions, num_pixels, level_num, slide_path)"
   ]
  },
  {
   "cell_type": "markdown",
   "metadata": {
    "colab_type": "text",
    "id": "PnGV2oV1oZ3Q"
   },
   "source": [
    "## Create pipeline for testing data"
   ]
  },
  {
   "cell_type": "code",
   "execution_count": 48,
   "metadata": {
    "colab": {},
    "colab_type": "code",
    "id": "sxO80Z1xc9yg"
   },
   "outputs": [
    {
     "name": "stdout",
     "output_type": "stream",
     "text": [
      "30731\n"
     ]
    }
   ],
   "source": [
    "## Create list of strings for a tf dataset\n",
    "img_num = slide_path.split('_')[1].strip(\".tif\")\n",
    "img_test_folder = 'tissue_only'\n",
    " \n",
    "data_root = pathlib.Path('data/'+ img_num + '/' + img_test_folder)\n",
    "all_image_paths = list(data_root.glob('*'))\n",
    "all_image_paths = [str(path) for path in all_image_paths]\n",
    "# random.shuffle(all_image_paths)\n",
    "print(len(all_image_paths))"
   ]
  },
  {
   "cell_type": "code",
   "execution_count": 53,
   "metadata": {
    "colab": {
     "base_uri": "https://localhost:8080/",
     "height": 85
    },
    "colab_type": "code",
    "id": "DszIR6RJy5uu",
    "outputId": "e72d9b30-e686-4371-c16c-f384e1011da0"
   },
   "outputs": [
    {
     "name": "stdout",
     "output_type": "stream",
     "text": [
      "shape:  TensorShape([])\n",
      "type:  <dtype: 'string'>\n",
      "\n",
      "()\n"
     ]
    }
   ],
   "source": [
    "## Create the tf dataset with the testing image paths\n",
    "path_ds = tf.data.Dataset.from_tensor_slices(all_image_paths)\n",
    "print('shape: ', repr(path_ds.output_shapes))\n",
    "print('type: ', path_ds.output_types)\n",
    "print()\n",
    "print(path_ds.output_shapes)"
   ]
  },
  {
   "cell_type": "code",
   "execution_count": 54,
   "metadata": {
    "colab": {},
    "colab_type": "code",
    "id": "IwG2CeQtAMrP"
   },
   "outputs": [],
   "source": [
    "# Map the dataset to help functions\n",
    "image_ds = path_ds.map(load_and_preprocess_image, num_parallel_calls=8)"
   ]
  },
  {
   "cell_type": "code",
   "execution_count": 55,
   "metadata": {
    "colab": {
     "base_uri": "https://localhost:8080/",
     "height": 85
    },
    "colab_type": "code",
    "id": "itkcJOTVARYI",
    "outputId": "1aa81600-a72c-4f05-d1b5-133790a7bed6"
   },
   "outputs": [
    {
     "name": "stdout",
     "output_type": "stream",
     "text": [
      "image shape:  (TensorShape([Dimension(128), Dimension(128), Dimension(3)]),)\n",
      "types:  (tf.float32,)\n",
      "\n",
      "<ZipDataset shapes: ((128, 128, 3),), types: (tf.float32,)>\n"
     ]
    }
   ],
   "source": [
    "## Zip up the image dataset (must be a tuple!)\n",
    "image_test_ds = tf.data.Dataset.zip((image_ds,))\n",
    "print('image shape: ', image_test_ds.output_shapes)\n",
    "print('types: ', image_test_ds.output_types)\n",
    "print()\n",
    "print(image_test_ds)"
   ]
  },
  {
   "cell_type": "code",
   "execution_count": 64,
   "metadata": {
    "colab": {
     "base_uri": "https://localhost:8080/",
     "height": 34
    },
    "colab_type": "code",
    "id": "zhwj-iN2AhNO",
    "outputId": "59fa9d0d-9818-4000-9c26-9c9e491f1ab8"
   },
   "outputs": [
    {
     "data": {
      "text/plain": [
       "<PrefetchDataset shapes: ((32, 128, 128, 3),), types: (tf.float32,)>"
      ]
     },
     "execution_count": 64,
     "metadata": {},
     "output_type": "execute_result"
    }
   ],
   "source": [
    "## Dataset parameters\n",
    "BATCH_SIZE = 32\n",
    "\n",
    "# Setting a shuffle buffer size larger than the dataset ensures that the data is completely shuffled.\n",
    "ds = image_test_ds.repeat()\n",
    "ds = ds.batch(BATCH_SIZE, drop_remainder = True)\n",
    "# `prefetch` lets the dataset fetches batches, asynchronously while the model is training.\n",
    "ds = ds.prefetch(1)\n",
    "ds"
   ]
  },
  {
   "cell_type": "markdown",
   "metadata": {
    "colab_type": "text",
    "id": "1SZCmK7yo7Dd"
   },
   "source": [
    "## Model prediction and results visualization"
   ]
  },
  {
   "cell_type": "code",
   "execution_count": 65,
   "metadata": {
    "colab": {
     "base_uri": "https://localhost:8080/",
     "height": 34
    },
    "colab_type": "code",
    "id": "em02dJxLA09Q",
    "outputId": "a758a87d-b394-4cf9-a08c-bb6055a91fa2"
   },
   "outputs": [],
   "source": [
    "## Predict tumor presence on test data\n",
    "test = model.predict(ds, steps = int(np.ceil(len(all_image_paths)/BATCH_SIZE )))"
   ]
  },
  {
   "cell_type": "code",
   "execution_count": 74,
   "metadata": {
    "scrolled": true
   },
   "outputs": [
    {
     "name": "stdout",
     "output_type": "stream",
     "text": [
      "30731\n"
     ]
    }
   ],
   "source": [
    "test = test[0:len(all_image_paths), :]\n",
    "print(len(test))"
   ]
  },
  {
   "cell_type": "code",
   "execution_count": 76,
   "metadata": {
    "colab": {
     "base_uri": "https://localhost:8080/",
     "height": 34
    },
    "colab_type": "code",
    "id": "XFc5dCm-VtR9",
    "outputId": "14484926-25a0-4a1e-8ee5-8912fe518fb5"
   },
   "outputs": [
    {
     "name": "stdout",
     "output_type": "stream",
     "text": [
      "280 368\n"
     ]
    }
   ],
   "source": [
    "## Create mask containing test predictions\n",
    "img_num = np.zeros(len(all_image_paths))\n",
    "for i in range(len(all_image_paths)):\n",
    "    img_num[i] = int(all_image_paths[i].strip('.jpg').split('/')[-1].split('_')[-1])\n",
    "    \n",
    "depth, width = int(np.ceil(slide_image.shape[0]/num_pixels)), int(np.ceil(slide_image.shape[1]/num_pixels))\n",
    "\n",
    "print(depth, width)\n",
    "\n",
    "predictions = np.zeros((depth, width))\n",
    "conf_threshold = 0.7\n",
    "\n",
    "for i in range(len(test)):\n",
    "    y = int(img_num[i] // width)\n",
    "    x = int(np.mod(img_num[i], width))\n",
    "    predictions[y,x] = int(test[i][1] > conf_threshold)\n"
   ]
  },
  {
   "cell_type": "code",
   "execution_count": 0,
   "metadata": {
    "colab": {},
    "colab_type": "code",
    "id": "XO-fXvprEGxw"
   },
   "outputs": [],
   "source": []
  },
  {
   "cell_type": "code",
   "execution_count": 79,
   "metadata": {
    "colab": {
     "base_uri": "https://localhost:8080/",
     "height": 823
    },
    "colab_type": "code",
    "id": "XMV-cuIEc7LA",
    "outputId": "a6cfbf4d-e098-4a9c-b775-5d10f0a1f299"
   },
   "outputs": [
    {
     "data": {
      "text/plain": [
       "Text(0.5, 1.0, 'Actual Tumor Mask')"
      ]
     },
     "execution_count": 79,
     "metadata": {},
     "output_type": "execute_result"
    },
    {
     "name": "stdout",
     "output_type": "stream",
     "text": [
      "Error in callback <function install_repl_displayhook.<locals>.post_execute at 0x7f5be9e40f28> (for post_execute):\n"
     ]
    },
    {
     "ename": "MemoryError",
     "evalue": "",
     "output_type": "error",
     "traceback": [
      "\u001b[0;31m---------------------------------------------------------------------------\u001b[0m",
      "\u001b[0;31mMemoryError\u001b[0m                               Traceback (most recent call last)",
      "\u001b[0;32m~/.conda/envs/cam36/lib/python3.6/site-packages/matplotlib/pyplot.py\u001b[0m in \u001b[0;36mpost_execute\u001b[0;34m()\u001b[0m\n\u001b[1;32m    107\u001b[0m             \u001b[0;32mdef\u001b[0m \u001b[0mpost_execute\u001b[0m\u001b[0;34m(\u001b[0m\u001b[0;34m)\u001b[0m\u001b[0;34m:\u001b[0m\u001b[0;34m\u001b[0m\u001b[0m\n\u001b[1;32m    108\u001b[0m                 \u001b[0;32mif\u001b[0m \u001b[0mmatplotlib\u001b[0m\u001b[0;34m.\u001b[0m\u001b[0mis_interactive\u001b[0m\u001b[0;34m(\u001b[0m\u001b[0;34m)\u001b[0m\u001b[0;34m:\u001b[0m\u001b[0;34m\u001b[0m\u001b[0m\n\u001b[0;32m--> 109\u001b[0;31m                     \u001b[0mdraw_all\u001b[0m\u001b[0;34m(\u001b[0m\u001b[0;34m)\u001b[0m\u001b[0;34m\u001b[0m\u001b[0m\n\u001b[0m\u001b[1;32m    110\u001b[0m \u001b[0;34m\u001b[0m\u001b[0m\n\u001b[1;32m    111\u001b[0m             \u001b[0;31m# IPython >= 2\u001b[0m\u001b[0;34m\u001b[0m\u001b[0;34m\u001b[0m\u001b[0m\n",
      "\u001b[0;32m~/.conda/envs/cam36/lib/python3.6/site-packages/matplotlib/_pylab_helpers.py\u001b[0m in \u001b[0;36mdraw_all\u001b[0;34m(cls, force)\u001b[0m\n\u001b[1;32m    130\u001b[0m         \u001b[0;32mfor\u001b[0m \u001b[0mf_mgr\u001b[0m \u001b[0;32min\u001b[0m \u001b[0mcls\u001b[0m\u001b[0;34m.\u001b[0m\u001b[0mget_all_fig_managers\u001b[0m\u001b[0;34m(\u001b[0m\u001b[0;34m)\u001b[0m\u001b[0;34m:\u001b[0m\u001b[0;34m\u001b[0m\u001b[0m\n\u001b[1;32m    131\u001b[0m             \u001b[0;32mif\u001b[0m \u001b[0mforce\u001b[0m \u001b[0;32mor\u001b[0m \u001b[0mf_mgr\u001b[0m\u001b[0;34m.\u001b[0m\u001b[0mcanvas\u001b[0m\u001b[0;34m.\u001b[0m\u001b[0mfigure\u001b[0m\u001b[0;34m.\u001b[0m\u001b[0mstale\u001b[0m\u001b[0;34m:\u001b[0m\u001b[0;34m\u001b[0m\u001b[0m\n\u001b[0;32m--> 132\u001b[0;31m                 \u001b[0mf_mgr\u001b[0m\u001b[0;34m.\u001b[0m\u001b[0mcanvas\u001b[0m\u001b[0;34m.\u001b[0m\u001b[0mdraw_idle\u001b[0m\u001b[0;34m(\u001b[0m\u001b[0;34m)\u001b[0m\u001b[0;34m\u001b[0m\u001b[0m\n\u001b[0m\u001b[1;32m    133\u001b[0m \u001b[0;34m\u001b[0m\u001b[0m\n\u001b[1;32m    134\u001b[0m \u001b[0matexit\u001b[0m\u001b[0;34m.\u001b[0m\u001b[0mregister\u001b[0m\u001b[0;34m(\u001b[0m\u001b[0mGcf\u001b[0m\u001b[0;34m.\u001b[0m\u001b[0mdestroy_all\u001b[0m\u001b[0;34m)\u001b[0m\u001b[0;34m\u001b[0m\u001b[0m\n",
      "\u001b[0;32m~/.conda/envs/cam36/lib/python3.6/site-packages/matplotlib/backend_bases.py\u001b[0m in \u001b[0;36mdraw_idle\u001b[0;34m(self, *args, **kwargs)\u001b[0m\n\u001b[1;32m   1897\u001b[0m         \u001b[0;32mif\u001b[0m \u001b[0;32mnot\u001b[0m \u001b[0mself\u001b[0m\u001b[0;34m.\u001b[0m\u001b[0m_is_idle_drawing\u001b[0m\u001b[0;34m:\u001b[0m\u001b[0;34m\u001b[0m\u001b[0m\n\u001b[1;32m   1898\u001b[0m             \u001b[0;32mwith\u001b[0m \u001b[0mself\u001b[0m\u001b[0;34m.\u001b[0m\u001b[0m_idle_draw_cntx\u001b[0m\u001b[0;34m(\u001b[0m\u001b[0;34m)\u001b[0m\u001b[0;34m:\u001b[0m\u001b[0;34m\u001b[0m\u001b[0m\n\u001b[0;32m-> 1899\u001b[0;31m                 \u001b[0mself\u001b[0m\u001b[0;34m.\u001b[0m\u001b[0mdraw\u001b[0m\u001b[0;34m(\u001b[0m\u001b[0;34m*\u001b[0m\u001b[0margs\u001b[0m\u001b[0;34m,\u001b[0m \u001b[0;34m**\u001b[0m\u001b[0mkwargs\u001b[0m\u001b[0;34m)\u001b[0m\u001b[0;34m\u001b[0m\u001b[0m\n\u001b[0m\u001b[1;32m   1900\u001b[0m \u001b[0;34m\u001b[0m\u001b[0m\n\u001b[1;32m   1901\u001b[0m     \u001b[0;32mdef\u001b[0m \u001b[0mdraw_cursor\u001b[0m\u001b[0;34m(\u001b[0m\u001b[0mself\u001b[0m\u001b[0;34m,\u001b[0m \u001b[0mevent\u001b[0m\u001b[0;34m)\u001b[0m\u001b[0;34m:\u001b[0m\u001b[0;34m\u001b[0m\u001b[0m\n",
      "\u001b[0;32m~/.conda/envs/cam36/lib/python3.6/site-packages/matplotlib/backends/backend_agg.py\u001b[0m in \u001b[0;36mdraw\u001b[0;34m(self)\u001b[0m\n\u001b[1;32m    400\u001b[0m         \u001b[0mtoolbar\u001b[0m \u001b[0;34m=\u001b[0m \u001b[0mself\u001b[0m\u001b[0;34m.\u001b[0m\u001b[0mtoolbar\u001b[0m\u001b[0;34m\u001b[0m\u001b[0m\n\u001b[1;32m    401\u001b[0m         \u001b[0;32mtry\u001b[0m\u001b[0;34m:\u001b[0m\u001b[0;34m\u001b[0m\u001b[0m\n\u001b[0;32m--> 402\u001b[0;31m             \u001b[0mself\u001b[0m\u001b[0;34m.\u001b[0m\u001b[0mfigure\u001b[0m\u001b[0;34m.\u001b[0m\u001b[0mdraw\u001b[0m\u001b[0;34m(\u001b[0m\u001b[0mself\u001b[0m\u001b[0;34m.\u001b[0m\u001b[0mrenderer\u001b[0m\u001b[0;34m)\u001b[0m\u001b[0;34m\u001b[0m\u001b[0m\n\u001b[0m\u001b[1;32m    403\u001b[0m             \u001b[0;31m# A GUI class may be need to update a window using this draw, so\u001b[0m\u001b[0;34m\u001b[0m\u001b[0;34m\u001b[0m\u001b[0m\n\u001b[1;32m    404\u001b[0m             \u001b[0;31m# don't forget to call the superclass.\u001b[0m\u001b[0;34m\u001b[0m\u001b[0;34m\u001b[0m\u001b[0m\n",
      "\u001b[0;32m~/.conda/envs/cam36/lib/python3.6/site-packages/matplotlib/artist.py\u001b[0m in \u001b[0;36mdraw_wrapper\u001b[0;34m(artist, renderer, *args, **kwargs)\u001b[0m\n\u001b[1;32m     48\u001b[0m                 \u001b[0mrenderer\u001b[0m\u001b[0;34m.\u001b[0m\u001b[0mstart_filter\u001b[0m\u001b[0;34m(\u001b[0m\u001b[0;34m)\u001b[0m\u001b[0;34m\u001b[0m\u001b[0m\n\u001b[1;32m     49\u001b[0m \u001b[0;34m\u001b[0m\u001b[0m\n\u001b[0;32m---> 50\u001b[0;31m             \u001b[0;32mreturn\u001b[0m \u001b[0mdraw\u001b[0m\u001b[0;34m(\u001b[0m\u001b[0martist\u001b[0m\u001b[0;34m,\u001b[0m \u001b[0mrenderer\u001b[0m\u001b[0;34m,\u001b[0m \u001b[0;34m*\u001b[0m\u001b[0margs\u001b[0m\u001b[0;34m,\u001b[0m \u001b[0;34m**\u001b[0m\u001b[0mkwargs\u001b[0m\u001b[0;34m)\u001b[0m\u001b[0;34m\u001b[0m\u001b[0m\n\u001b[0m\u001b[1;32m     51\u001b[0m         \u001b[0;32mfinally\u001b[0m\u001b[0;34m:\u001b[0m\u001b[0;34m\u001b[0m\u001b[0m\n\u001b[1;32m     52\u001b[0m             \u001b[0;32mif\u001b[0m \u001b[0martist\u001b[0m\u001b[0;34m.\u001b[0m\u001b[0mget_agg_filter\u001b[0m\u001b[0;34m(\u001b[0m\u001b[0;34m)\u001b[0m \u001b[0;32mis\u001b[0m \u001b[0;32mnot\u001b[0m \u001b[0;32mNone\u001b[0m\u001b[0;34m:\u001b[0m\u001b[0;34m\u001b[0m\u001b[0m\n",
      "\u001b[0;32m~/.conda/envs/cam36/lib/python3.6/site-packages/matplotlib/figure.py\u001b[0m in \u001b[0;36mdraw\u001b[0;34m(self, renderer)\u001b[0m\n\u001b[1;32m   1647\u001b[0m \u001b[0;34m\u001b[0m\u001b[0m\n\u001b[1;32m   1648\u001b[0m             mimage._draw_list_compositing_images(\n\u001b[0;32m-> 1649\u001b[0;31m                 renderer, self, artists, self.suppressComposite)\n\u001b[0m\u001b[1;32m   1650\u001b[0m \u001b[0;34m\u001b[0m\u001b[0m\n\u001b[1;32m   1651\u001b[0m             \u001b[0mrenderer\u001b[0m\u001b[0;34m.\u001b[0m\u001b[0mclose_group\u001b[0m\u001b[0;34m(\u001b[0m\u001b[0;34m'figure'\u001b[0m\u001b[0;34m)\u001b[0m\u001b[0;34m\u001b[0m\u001b[0m\n",
      "\u001b[0;32m~/.conda/envs/cam36/lib/python3.6/site-packages/matplotlib/image.py\u001b[0m in \u001b[0;36m_draw_list_compositing_images\u001b[0;34m(renderer, parent, artists, suppress_composite)\u001b[0m\n\u001b[1;32m    136\u001b[0m     \u001b[0;32mif\u001b[0m \u001b[0mnot_composite\u001b[0m \u001b[0;32mor\u001b[0m \u001b[0;32mnot\u001b[0m \u001b[0mhas_images\u001b[0m\u001b[0;34m:\u001b[0m\u001b[0;34m\u001b[0m\u001b[0m\n\u001b[1;32m    137\u001b[0m         \u001b[0;32mfor\u001b[0m \u001b[0ma\u001b[0m \u001b[0;32min\u001b[0m \u001b[0martists\u001b[0m\u001b[0;34m:\u001b[0m\u001b[0;34m\u001b[0m\u001b[0m\n\u001b[0;32m--> 138\u001b[0;31m             \u001b[0ma\u001b[0m\u001b[0;34m.\u001b[0m\u001b[0mdraw\u001b[0m\u001b[0;34m(\u001b[0m\u001b[0mrenderer\u001b[0m\u001b[0;34m)\u001b[0m\u001b[0;34m\u001b[0m\u001b[0m\n\u001b[0m\u001b[1;32m    139\u001b[0m     \u001b[0;32melse\u001b[0m\u001b[0;34m:\u001b[0m\u001b[0;34m\u001b[0m\u001b[0m\n\u001b[1;32m    140\u001b[0m         \u001b[0;31m# Composite any adjacent images together\u001b[0m\u001b[0;34m\u001b[0m\u001b[0;34m\u001b[0m\u001b[0m\n",
      "\u001b[0;32m~/.conda/envs/cam36/lib/python3.6/site-packages/matplotlib/artist.py\u001b[0m in \u001b[0;36mdraw_wrapper\u001b[0;34m(artist, renderer, *args, **kwargs)\u001b[0m\n\u001b[1;32m     48\u001b[0m                 \u001b[0mrenderer\u001b[0m\u001b[0;34m.\u001b[0m\u001b[0mstart_filter\u001b[0m\u001b[0;34m(\u001b[0m\u001b[0;34m)\u001b[0m\u001b[0;34m\u001b[0m\u001b[0m\n\u001b[1;32m     49\u001b[0m \u001b[0;34m\u001b[0m\u001b[0m\n\u001b[0;32m---> 50\u001b[0;31m             \u001b[0;32mreturn\u001b[0m \u001b[0mdraw\u001b[0m\u001b[0;34m(\u001b[0m\u001b[0martist\u001b[0m\u001b[0;34m,\u001b[0m \u001b[0mrenderer\u001b[0m\u001b[0;34m,\u001b[0m \u001b[0;34m*\u001b[0m\u001b[0margs\u001b[0m\u001b[0;34m,\u001b[0m \u001b[0;34m**\u001b[0m\u001b[0mkwargs\u001b[0m\u001b[0;34m)\u001b[0m\u001b[0;34m\u001b[0m\u001b[0m\n\u001b[0m\u001b[1;32m     51\u001b[0m         \u001b[0;32mfinally\u001b[0m\u001b[0;34m:\u001b[0m\u001b[0;34m\u001b[0m\u001b[0m\n\u001b[1;32m     52\u001b[0m             \u001b[0;32mif\u001b[0m \u001b[0martist\u001b[0m\u001b[0;34m.\u001b[0m\u001b[0mget_agg_filter\u001b[0m\u001b[0;34m(\u001b[0m\u001b[0;34m)\u001b[0m \u001b[0;32mis\u001b[0m \u001b[0;32mnot\u001b[0m \u001b[0;32mNone\u001b[0m\u001b[0;34m:\u001b[0m\u001b[0;34m\u001b[0m\u001b[0m\n",
      "\u001b[0;32m~/.conda/envs/cam36/lib/python3.6/site-packages/matplotlib/axes/_base.py\u001b[0m in \u001b[0;36mdraw\u001b[0;34m(self, renderer, inframe)\u001b[0m\n\u001b[1;32m   2608\u001b[0m             \u001b[0mrenderer\u001b[0m\u001b[0;34m.\u001b[0m\u001b[0mstop_rasterizing\u001b[0m\u001b[0;34m(\u001b[0m\u001b[0;34m)\u001b[0m\u001b[0;34m\u001b[0m\u001b[0m\n\u001b[1;32m   2609\u001b[0m \u001b[0;34m\u001b[0m\u001b[0m\n\u001b[0;32m-> 2610\u001b[0;31m         \u001b[0mmimage\u001b[0m\u001b[0;34m.\u001b[0m\u001b[0m_draw_list_compositing_images\u001b[0m\u001b[0;34m(\u001b[0m\u001b[0mrenderer\u001b[0m\u001b[0;34m,\u001b[0m \u001b[0mself\u001b[0m\u001b[0;34m,\u001b[0m \u001b[0martists\u001b[0m\u001b[0;34m)\u001b[0m\u001b[0;34m\u001b[0m\u001b[0m\n\u001b[0m\u001b[1;32m   2611\u001b[0m \u001b[0;34m\u001b[0m\u001b[0m\n\u001b[1;32m   2612\u001b[0m         \u001b[0mrenderer\u001b[0m\u001b[0;34m.\u001b[0m\u001b[0mclose_group\u001b[0m\u001b[0;34m(\u001b[0m\u001b[0;34m'axes'\u001b[0m\u001b[0;34m)\u001b[0m\u001b[0;34m\u001b[0m\u001b[0m\n",
      "\u001b[0;32m~/.conda/envs/cam36/lib/python3.6/site-packages/matplotlib/image.py\u001b[0m in \u001b[0;36m_draw_list_compositing_images\u001b[0;34m(renderer, parent, artists, suppress_composite)\u001b[0m\n\u001b[1;32m    136\u001b[0m     \u001b[0;32mif\u001b[0m \u001b[0mnot_composite\u001b[0m \u001b[0;32mor\u001b[0m \u001b[0;32mnot\u001b[0m \u001b[0mhas_images\u001b[0m\u001b[0;34m:\u001b[0m\u001b[0;34m\u001b[0m\u001b[0m\n\u001b[1;32m    137\u001b[0m         \u001b[0;32mfor\u001b[0m \u001b[0ma\u001b[0m \u001b[0;32min\u001b[0m \u001b[0martists\u001b[0m\u001b[0;34m:\u001b[0m\u001b[0;34m\u001b[0m\u001b[0m\n\u001b[0;32m--> 138\u001b[0;31m             \u001b[0ma\u001b[0m\u001b[0;34m.\u001b[0m\u001b[0mdraw\u001b[0m\u001b[0;34m(\u001b[0m\u001b[0mrenderer\u001b[0m\u001b[0;34m)\u001b[0m\u001b[0;34m\u001b[0m\u001b[0m\n\u001b[0m\u001b[1;32m    139\u001b[0m     \u001b[0;32melse\u001b[0m\u001b[0;34m:\u001b[0m\u001b[0;34m\u001b[0m\u001b[0m\n\u001b[1;32m    140\u001b[0m         \u001b[0;31m# Composite any adjacent images together\u001b[0m\u001b[0;34m\u001b[0m\u001b[0;34m\u001b[0m\u001b[0m\n",
      "\u001b[0;32m~/.conda/envs/cam36/lib/python3.6/site-packages/matplotlib/artist.py\u001b[0m in \u001b[0;36mdraw_wrapper\u001b[0;34m(artist, renderer, *args, **kwargs)\u001b[0m\n\u001b[1;32m     48\u001b[0m                 \u001b[0mrenderer\u001b[0m\u001b[0;34m.\u001b[0m\u001b[0mstart_filter\u001b[0m\u001b[0;34m(\u001b[0m\u001b[0;34m)\u001b[0m\u001b[0;34m\u001b[0m\u001b[0m\n\u001b[1;32m     49\u001b[0m \u001b[0;34m\u001b[0m\u001b[0m\n\u001b[0;32m---> 50\u001b[0;31m             \u001b[0;32mreturn\u001b[0m \u001b[0mdraw\u001b[0m\u001b[0;34m(\u001b[0m\u001b[0martist\u001b[0m\u001b[0;34m,\u001b[0m \u001b[0mrenderer\u001b[0m\u001b[0;34m,\u001b[0m \u001b[0;34m*\u001b[0m\u001b[0margs\u001b[0m\u001b[0;34m,\u001b[0m \u001b[0;34m**\u001b[0m\u001b[0mkwargs\u001b[0m\u001b[0;34m)\u001b[0m\u001b[0;34m\u001b[0m\u001b[0m\n\u001b[0m\u001b[1;32m     51\u001b[0m         \u001b[0;32mfinally\u001b[0m\u001b[0;34m:\u001b[0m\u001b[0;34m\u001b[0m\u001b[0m\n\u001b[1;32m     52\u001b[0m             \u001b[0;32mif\u001b[0m \u001b[0martist\u001b[0m\u001b[0;34m.\u001b[0m\u001b[0mget_agg_filter\u001b[0m\u001b[0;34m(\u001b[0m\u001b[0;34m)\u001b[0m \u001b[0;32mis\u001b[0m \u001b[0;32mnot\u001b[0m \u001b[0;32mNone\u001b[0m\u001b[0;34m:\u001b[0m\u001b[0;34m\u001b[0m\u001b[0m\n",
      "\u001b[0;32m~/.conda/envs/cam36/lib/python3.6/site-packages/matplotlib/image.py\u001b[0m in \u001b[0;36mdraw\u001b[0;34m(self, renderer, *args, **kwargs)\u001b[0m\n\u001b[1;32m    582\u001b[0m         \u001b[0;32melse\u001b[0m\u001b[0;34m:\u001b[0m\u001b[0;34m\u001b[0m\u001b[0m\n\u001b[1;32m    583\u001b[0m             im, l, b, trans = self.make_image(\n\u001b[0;32m--> 584\u001b[0;31m                 renderer, renderer.get_image_magnification())\n\u001b[0m\u001b[1;32m    585\u001b[0m             \u001b[0;32mif\u001b[0m \u001b[0mim\u001b[0m \u001b[0;32mis\u001b[0m \u001b[0;32mnot\u001b[0m \u001b[0;32mNone\u001b[0m\u001b[0;34m:\u001b[0m\u001b[0;34m\u001b[0m\u001b[0m\n\u001b[1;32m    586\u001b[0m                 \u001b[0mrenderer\u001b[0m\u001b[0;34m.\u001b[0m\u001b[0mdraw_image\u001b[0m\u001b[0;34m(\u001b[0m\u001b[0mgc\u001b[0m\u001b[0;34m,\u001b[0m \u001b[0ml\u001b[0m\u001b[0;34m,\u001b[0m \u001b[0mb\u001b[0m\u001b[0;34m,\u001b[0m \u001b[0mim\u001b[0m\u001b[0;34m)\u001b[0m\u001b[0;34m\u001b[0m\u001b[0m\n",
      "\u001b[0;32m~/.conda/envs/cam36/lib/python3.6/site-packages/matplotlib/image.py\u001b[0m in \u001b[0;36mmake_image\u001b[0;34m(self, renderer, magnification, unsampled)\u001b[0m\n\u001b[1;32m    837\u001b[0m         return self._make_image(\n\u001b[1;32m    838\u001b[0m             \u001b[0mself\u001b[0m\u001b[0;34m.\u001b[0m\u001b[0m_A\u001b[0m\u001b[0;34m,\u001b[0m \u001b[0mbbox\u001b[0m\u001b[0;34m,\u001b[0m \u001b[0mtransformed_bbox\u001b[0m\u001b[0;34m,\u001b[0m \u001b[0mself\u001b[0m\u001b[0;34m.\u001b[0m\u001b[0maxes\u001b[0m\u001b[0;34m.\u001b[0m\u001b[0mbbox\u001b[0m\u001b[0;34m,\u001b[0m \u001b[0mmagnification\u001b[0m\u001b[0;34m,\u001b[0m\u001b[0;34m\u001b[0m\u001b[0m\n\u001b[0;32m--> 839\u001b[0;31m             unsampled=unsampled)\n\u001b[0m\u001b[1;32m    840\u001b[0m \u001b[0;34m\u001b[0m\u001b[0m\n\u001b[1;32m    841\u001b[0m     \u001b[0;32mdef\u001b[0m \u001b[0m_check_unsampled_image\u001b[0m\u001b[0;34m(\u001b[0m\u001b[0mself\u001b[0m\u001b[0;34m,\u001b[0m \u001b[0mrenderer\u001b[0m\u001b[0;34m)\u001b[0m\u001b[0;34m:\u001b[0m\u001b[0;34m\u001b[0m\u001b[0m\n",
      "\u001b[0;32m~/.conda/envs/cam36/lib/python3.6/site-packages/matplotlib/image.py\u001b[0m in \u001b[0;36m_make_image\u001b[0;34m(self, A, in_bbox, out_bbox, clip_bbox, magnification, unsampled, round_to_pixel_border)\u001b[0m\n\u001b[1;32m    385\u001b[0m                 \u001b[0;31m# This may introduce numeric instabilities in very broadly\u001b[0m\u001b[0;34m\u001b[0m\u001b[0;34m\u001b[0m\u001b[0m\n\u001b[1;32m    386\u001b[0m                 \u001b[0;31m# scaled data\u001b[0m\u001b[0;34m\u001b[0m\u001b[0;34m\u001b[0m\u001b[0m\n\u001b[0;32m--> 387\u001b[0;31m                 \u001b[0mA_scaled\u001b[0m \u001b[0;34m=\u001b[0m \u001b[0mnp\u001b[0m\u001b[0;34m.\u001b[0m\u001b[0mempty\u001b[0m\u001b[0;34m(\u001b[0m\u001b[0mA\u001b[0m\u001b[0;34m.\u001b[0m\u001b[0mshape\u001b[0m\u001b[0;34m,\u001b[0m \u001b[0mdtype\u001b[0m\u001b[0;34m=\u001b[0m\u001b[0mscaled_dtype\u001b[0m\u001b[0;34m)\u001b[0m\u001b[0;34m\u001b[0m\u001b[0m\n\u001b[0m\u001b[1;32m    388\u001b[0m                 \u001b[0mA_scaled\u001b[0m\u001b[0;34m[\u001b[0m\u001b[0;34m:\u001b[0m\u001b[0;34m]\u001b[0m \u001b[0;34m=\u001b[0m \u001b[0mA\u001b[0m\u001b[0;34m\u001b[0m\u001b[0m\n\u001b[1;32m    389\u001b[0m                 \u001b[0;31m# clip scaled data around norm if necessary.\u001b[0m\u001b[0;34m\u001b[0m\u001b[0;34m\u001b[0m\u001b[0m\n",
      "\u001b[0;31mMemoryError\u001b[0m: "
     ]
    },
    {
     "ename": "MemoryError",
     "evalue": "",
     "output_type": "error",
     "traceback": [
      "\u001b[0;31m---------------------------------------------------------------------------\u001b[0m",
      "\u001b[0;31mMemoryError\u001b[0m                               Traceback (most recent call last)",
      "\u001b[0;32m~/.conda/envs/cam36/lib/python3.6/site-packages/IPython/core/formatters.py\u001b[0m in \u001b[0;36m__call__\u001b[0;34m(self, obj)\u001b[0m\n\u001b[1;32m    339\u001b[0m                 \u001b[0;32mpass\u001b[0m\u001b[0;34m\u001b[0m\u001b[0m\n\u001b[1;32m    340\u001b[0m             \u001b[0;32melse\u001b[0m\u001b[0;34m:\u001b[0m\u001b[0;34m\u001b[0m\u001b[0m\n\u001b[0;32m--> 341\u001b[0;31m                 \u001b[0;32mreturn\u001b[0m \u001b[0mprinter\u001b[0m\u001b[0;34m(\u001b[0m\u001b[0mobj\u001b[0m\u001b[0;34m)\u001b[0m\u001b[0;34m\u001b[0m\u001b[0m\n\u001b[0m\u001b[1;32m    342\u001b[0m             \u001b[0;31m# Finally look for special method names\u001b[0m\u001b[0;34m\u001b[0m\u001b[0;34m\u001b[0m\u001b[0m\n\u001b[1;32m    343\u001b[0m             \u001b[0mmethod\u001b[0m \u001b[0;34m=\u001b[0m \u001b[0mget_real_method\u001b[0m\u001b[0;34m(\u001b[0m\u001b[0mobj\u001b[0m\u001b[0;34m,\u001b[0m \u001b[0mself\u001b[0m\u001b[0;34m.\u001b[0m\u001b[0mprint_method\u001b[0m\u001b[0;34m)\u001b[0m\u001b[0;34m\u001b[0m\u001b[0m\n",
      "\u001b[0;32m~/.conda/envs/cam36/lib/python3.6/site-packages/IPython/core/pylabtools.py\u001b[0m in \u001b[0;36m<lambda>\u001b[0;34m(fig)\u001b[0m\n\u001b[1;32m    239\u001b[0m \u001b[0;34m\u001b[0m\u001b[0m\n\u001b[1;32m    240\u001b[0m     \u001b[0;32mif\u001b[0m \u001b[0;34m'png'\u001b[0m \u001b[0;32min\u001b[0m \u001b[0mformats\u001b[0m\u001b[0;34m:\u001b[0m\u001b[0;34m\u001b[0m\u001b[0m\n\u001b[0;32m--> 241\u001b[0;31m         \u001b[0mpng_formatter\u001b[0m\u001b[0;34m.\u001b[0m\u001b[0mfor_type\u001b[0m\u001b[0;34m(\u001b[0m\u001b[0mFigure\u001b[0m\u001b[0;34m,\u001b[0m \u001b[0;32mlambda\u001b[0m \u001b[0mfig\u001b[0m\u001b[0;34m:\u001b[0m \u001b[0mprint_figure\u001b[0m\u001b[0;34m(\u001b[0m\u001b[0mfig\u001b[0m\u001b[0;34m,\u001b[0m \u001b[0;34m'png'\u001b[0m\u001b[0;34m,\u001b[0m \u001b[0;34m**\u001b[0m\u001b[0mkwargs\u001b[0m\u001b[0;34m)\u001b[0m\u001b[0;34m)\u001b[0m\u001b[0;34m\u001b[0m\u001b[0m\n\u001b[0m\u001b[1;32m    242\u001b[0m     \u001b[0;32mif\u001b[0m \u001b[0;34m'retina'\u001b[0m \u001b[0;32min\u001b[0m \u001b[0mformats\u001b[0m \u001b[0;32mor\u001b[0m \u001b[0;34m'png2x'\u001b[0m \u001b[0;32min\u001b[0m \u001b[0mformats\u001b[0m\u001b[0;34m:\u001b[0m\u001b[0;34m\u001b[0m\u001b[0m\n\u001b[1;32m    243\u001b[0m         \u001b[0mpng_formatter\u001b[0m\u001b[0;34m.\u001b[0m\u001b[0mfor_type\u001b[0m\u001b[0;34m(\u001b[0m\u001b[0mFigure\u001b[0m\u001b[0;34m,\u001b[0m \u001b[0;32mlambda\u001b[0m \u001b[0mfig\u001b[0m\u001b[0;34m:\u001b[0m \u001b[0mretina_figure\u001b[0m\u001b[0;34m(\u001b[0m\u001b[0mfig\u001b[0m\u001b[0;34m,\u001b[0m \u001b[0;34m**\u001b[0m\u001b[0mkwargs\u001b[0m\u001b[0;34m)\u001b[0m\u001b[0;34m)\u001b[0m\u001b[0;34m\u001b[0m\u001b[0m\n",
      "\u001b[0;32m~/.conda/envs/cam36/lib/python3.6/site-packages/IPython/core/pylabtools.py\u001b[0m in \u001b[0;36mprint_figure\u001b[0;34m(fig, fmt, bbox_inches, **kwargs)\u001b[0m\n\u001b[1;32m    123\u001b[0m \u001b[0;34m\u001b[0m\u001b[0m\n\u001b[1;32m    124\u001b[0m     \u001b[0mbytes_io\u001b[0m \u001b[0;34m=\u001b[0m \u001b[0mBytesIO\u001b[0m\u001b[0;34m(\u001b[0m\u001b[0;34m)\u001b[0m\u001b[0;34m\u001b[0m\u001b[0m\n\u001b[0;32m--> 125\u001b[0;31m     \u001b[0mfig\u001b[0m\u001b[0;34m.\u001b[0m\u001b[0mcanvas\u001b[0m\u001b[0;34m.\u001b[0m\u001b[0mprint_figure\u001b[0m\u001b[0;34m(\u001b[0m\u001b[0mbytes_io\u001b[0m\u001b[0;34m,\u001b[0m \u001b[0;34m**\u001b[0m\u001b[0mkw\u001b[0m\u001b[0;34m)\u001b[0m\u001b[0;34m\u001b[0m\u001b[0m\n\u001b[0m\u001b[1;32m    126\u001b[0m     \u001b[0mdata\u001b[0m \u001b[0;34m=\u001b[0m \u001b[0mbytes_io\u001b[0m\u001b[0;34m.\u001b[0m\u001b[0mgetvalue\u001b[0m\u001b[0;34m(\u001b[0m\u001b[0;34m)\u001b[0m\u001b[0;34m\u001b[0m\u001b[0m\n\u001b[1;32m    127\u001b[0m     \u001b[0;32mif\u001b[0m \u001b[0mfmt\u001b[0m \u001b[0;34m==\u001b[0m \u001b[0;34m'svg'\u001b[0m\u001b[0;34m:\u001b[0m\u001b[0;34m\u001b[0m\u001b[0m\n",
      "\u001b[0;32m~/.conda/envs/cam36/lib/python3.6/site-packages/matplotlib/backend_bases.py\u001b[0m in \u001b[0;36mprint_figure\u001b[0;34m(self, filename, dpi, facecolor, edgecolor, orientation, format, bbox_inches, **kwargs)\u001b[0m\n\u001b[1;32m   2047\u001b[0m                         \u001b[0morientation\u001b[0m\u001b[0;34m=\u001b[0m\u001b[0morientation\u001b[0m\u001b[0;34m,\u001b[0m\u001b[0;34m\u001b[0m\u001b[0m\n\u001b[1;32m   2048\u001b[0m                         \u001b[0mdryrun\u001b[0m\u001b[0;34m=\u001b[0m\u001b[0;32mTrue\u001b[0m\u001b[0;34m,\u001b[0m\u001b[0;34m\u001b[0m\u001b[0m\n\u001b[0;32m-> 2049\u001b[0;31m                         **kwargs)\n\u001b[0m\u001b[1;32m   2050\u001b[0m                     \u001b[0mrenderer\u001b[0m \u001b[0;34m=\u001b[0m \u001b[0mself\u001b[0m\u001b[0;34m.\u001b[0m\u001b[0mfigure\u001b[0m\u001b[0;34m.\u001b[0m\u001b[0m_cachedRenderer\u001b[0m\u001b[0;34m\u001b[0m\u001b[0m\n\u001b[1;32m   2051\u001b[0m                     \u001b[0mbbox_artists\u001b[0m \u001b[0;34m=\u001b[0m \u001b[0mkwargs\u001b[0m\u001b[0;34m.\u001b[0m\u001b[0mpop\u001b[0m\u001b[0;34m(\u001b[0m\u001b[0;34m\"bbox_extra_artists\"\u001b[0m\u001b[0;34m,\u001b[0m \u001b[0;32mNone\u001b[0m\u001b[0;34m)\u001b[0m\u001b[0;34m\u001b[0m\u001b[0m\n",
      "\u001b[0;32m~/.conda/envs/cam36/lib/python3.6/site-packages/matplotlib/backends/backend_agg.py\u001b[0m in \u001b[0;36mprint_png\u001b[0;34m(self, filename_or_obj, *args, **kwargs)\u001b[0m\n\u001b[1;32m    508\u001b[0m \u001b[0;34m\u001b[0m\u001b[0m\n\u001b[1;32m    509\u001b[0m         \"\"\"\n\u001b[0;32m--> 510\u001b[0;31m         \u001b[0mFigureCanvasAgg\u001b[0m\u001b[0;34m.\u001b[0m\u001b[0mdraw\u001b[0m\u001b[0;34m(\u001b[0m\u001b[0mself\u001b[0m\u001b[0;34m)\u001b[0m\u001b[0;34m\u001b[0m\u001b[0m\n\u001b[0m\u001b[1;32m    511\u001b[0m         \u001b[0mrenderer\u001b[0m \u001b[0;34m=\u001b[0m \u001b[0mself\u001b[0m\u001b[0;34m.\u001b[0m\u001b[0mget_renderer\u001b[0m\u001b[0;34m(\u001b[0m\u001b[0;34m)\u001b[0m\u001b[0;34m\u001b[0m\u001b[0m\n\u001b[1;32m    512\u001b[0m \u001b[0;34m\u001b[0m\u001b[0m\n",
      "\u001b[0;32m~/.conda/envs/cam36/lib/python3.6/site-packages/matplotlib/backends/backend_agg.py\u001b[0m in \u001b[0;36mdraw\u001b[0;34m(self)\u001b[0m\n\u001b[1;32m    400\u001b[0m         \u001b[0mtoolbar\u001b[0m \u001b[0;34m=\u001b[0m \u001b[0mself\u001b[0m\u001b[0;34m.\u001b[0m\u001b[0mtoolbar\u001b[0m\u001b[0;34m\u001b[0m\u001b[0m\n\u001b[1;32m    401\u001b[0m         \u001b[0;32mtry\u001b[0m\u001b[0;34m:\u001b[0m\u001b[0;34m\u001b[0m\u001b[0m\n\u001b[0;32m--> 402\u001b[0;31m             \u001b[0mself\u001b[0m\u001b[0;34m.\u001b[0m\u001b[0mfigure\u001b[0m\u001b[0;34m.\u001b[0m\u001b[0mdraw\u001b[0m\u001b[0;34m(\u001b[0m\u001b[0mself\u001b[0m\u001b[0;34m.\u001b[0m\u001b[0mrenderer\u001b[0m\u001b[0;34m)\u001b[0m\u001b[0;34m\u001b[0m\u001b[0m\n\u001b[0m\u001b[1;32m    403\u001b[0m             \u001b[0;31m# A GUI class may be need to update a window using this draw, so\u001b[0m\u001b[0;34m\u001b[0m\u001b[0;34m\u001b[0m\u001b[0m\n\u001b[1;32m    404\u001b[0m             \u001b[0;31m# don't forget to call the superclass.\u001b[0m\u001b[0;34m\u001b[0m\u001b[0;34m\u001b[0m\u001b[0m\n",
      "\u001b[0;32m~/.conda/envs/cam36/lib/python3.6/site-packages/matplotlib/artist.py\u001b[0m in \u001b[0;36mdraw_wrapper\u001b[0;34m(artist, renderer, *args, **kwargs)\u001b[0m\n\u001b[1;32m     48\u001b[0m                 \u001b[0mrenderer\u001b[0m\u001b[0;34m.\u001b[0m\u001b[0mstart_filter\u001b[0m\u001b[0;34m(\u001b[0m\u001b[0;34m)\u001b[0m\u001b[0;34m\u001b[0m\u001b[0m\n\u001b[1;32m     49\u001b[0m \u001b[0;34m\u001b[0m\u001b[0m\n\u001b[0;32m---> 50\u001b[0;31m             \u001b[0;32mreturn\u001b[0m \u001b[0mdraw\u001b[0m\u001b[0;34m(\u001b[0m\u001b[0martist\u001b[0m\u001b[0;34m,\u001b[0m \u001b[0mrenderer\u001b[0m\u001b[0;34m,\u001b[0m \u001b[0;34m*\u001b[0m\u001b[0margs\u001b[0m\u001b[0;34m,\u001b[0m \u001b[0;34m**\u001b[0m\u001b[0mkwargs\u001b[0m\u001b[0;34m)\u001b[0m\u001b[0;34m\u001b[0m\u001b[0m\n\u001b[0m\u001b[1;32m     51\u001b[0m         \u001b[0;32mfinally\u001b[0m\u001b[0;34m:\u001b[0m\u001b[0;34m\u001b[0m\u001b[0m\n\u001b[1;32m     52\u001b[0m             \u001b[0;32mif\u001b[0m \u001b[0martist\u001b[0m\u001b[0;34m.\u001b[0m\u001b[0mget_agg_filter\u001b[0m\u001b[0;34m(\u001b[0m\u001b[0;34m)\u001b[0m \u001b[0;32mis\u001b[0m \u001b[0;32mnot\u001b[0m \u001b[0;32mNone\u001b[0m\u001b[0;34m:\u001b[0m\u001b[0;34m\u001b[0m\u001b[0m\n",
      "\u001b[0;32m~/.conda/envs/cam36/lib/python3.6/site-packages/matplotlib/figure.py\u001b[0m in \u001b[0;36mdraw\u001b[0;34m(self, renderer)\u001b[0m\n\u001b[1;32m   1647\u001b[0m \u001b[0;34m\u001b[0m\u001b[0m\n\u001b[1;32m   1648\u001b[0m             mimage._draw_list_compositing_images(\n\u001b[0;32m-> 1649\u001b[0;31m                 renderer, self, artists, self.suppressComposite)\n\u001b[0m\u001b[1;32m   1650\u001b[0m \u001b[0;34m\u001b[0m\u001b[0m\n\u001b[1;32m   1651\u001b[0m             \u001b[0mrenderer\u001b[0m\u001b[0;34m.\u001b[0m\u001b[0mclose_group\u001b[0m\u001b[0;34m(\u001b[0m\u001b[0;34m'figure'\u001b[0m\u001b[0;34m)\u001b[0m\u001b[0;34m\u001b[0m\u001b[0m\n",
      "\u001b[0;32m~/.conda/envs/cam36/lib/python3.6/site-packages/matplotlib/image.py\u001b[0m in \u001b[0;36m_draw_list_compositing_images\u001b[0;34m(renderer, parent, artists, suppress_composite)\u001b[0m\n\u001b[1;32m    136\u001b[0m     \u001b[0;32mif\u001b[0m \u001b[0mnot_composite\u001b[0m \u001b[0;32mor\u001b[0m \u001b[0;32mnot\u001b[0m \u001b[0mhas_images\u001b[0m\u001b[0;34m:\u001b[0m\u001b[0;34m\u001b[0m\u001b[0m\n\u001b[1;32m    137\u001b[0m         \u001b[0;32mfor\u001b[0m \u001b[0ma\u001b[0m \u001b[0;32min\u001b[0m \u001b[0martists\u001b[0m\u001b[0;34m:\u001b[0m\u001b[0;34m\u001b[0m\u001b[0m\n\u001b[0;32m--> 138\u001b[0;31m             \u001b[0ma\u001b[0m\u001b[0;34m.\u001b[0m\u001b[0mdraw\u001b[0m\u001b[0;34m(\u001b[0m\u001b[0mrenderer\u001b[0m\u001b[0;34m)\u001b[0m\u001b[0;34m\u001b[0m\u001b[0m\n\u001b[0m\u001b[1;32m    139\u001b[0m     \u001b[0;32melse\u001b[0m\u001b[0;34m:\u001b[0m\u001b[0;34m\u001b[0m\u001b[0m\n\u001b[1;32m    140\u001b[0m         \u001b[0;31m# Composite any adjacent images together\u001b[0m\u001b[0;34m\u001b[0m\u001b[0;34m\u001b[0m\u001b[0m\n",
      "\u001b[0;32m~/.conda/envs/cam36/lib/python3.6/site-packages/matplotlib/artist.py\u001b[0m in \u001b[0;36mdraw_wrapper\u001b[0;34m(artist, renderer, *args, **kwargs)\u001b[0m\n\u001b[1;32m     48\u001b[0m                 \u001b[0mrenderer\u001b[0m\u001b[0;34m.\u001b[0m\u001b[0mstart_filter\u001b[0m\u001b[0;34m(\u001b[0m\u001b[0;34m)\u001b[0m\u001b[0;34m\u001b[0m\u001b[0m\n\u001b[1;32m     49\u001b[0m \u001b[0;34m\u001b[0m\u001b[0m\n\u001b[0;32m---> 50\u001b[0;31m             \u001b[0;32mreturn\u001b[0m \u001b[0mdraw\u001b[0m\u001b[0;34m(\u001b[0m\u001b[0martist\u001b[0m\u001b[0;34m,\u001b[0m \u001b[0mrenderer\u001b[0m\u001b[0;34m,\u001b[0m \u001b[0;34m*\u001b[0m\u001b[0margs\u001b[0m\u001b[0;34m,\u001b[0m \u001b[0;34m**\u001b[0m\u001b[0mkwargs\u001b[0m\u001b[0;34m)\u001b[0m\u001b[0;34m\u001b[0m\u001b[0m\n\u001b[0m\u001b[1;32m     51\u001b[0m         \u001b[0;32mfinally\u001b[0m\u001b[0;34m:\u001b[0m\u001b[0;34m\u001b[0m\u001b[0m\n\u001b[1;32m     52\u001b[0m             \u001b[0;32mif\u001b[0m \u001b[0martist\u001b[0m\u001b[0;34m.\u001b[0m\u001b[0mget_agg_filter\u001b[0m\u001b[0;34m(\u001b[0m\u001b[0;34m)\u001b[0m \u001b[0;32mis\u001b[0m \u001b[0;32mnot\u001b[0m \u001b[0;32mNone\u001b[0m\u001b[0;34m:\u001b[0m\u001b[0;34m\u001b[0m\u001b[0m\n",
      "\u001b[0;32m~/.conda/envs/cam36/lib/python3.6/site-packages/matplotlib/axes/_base.py\u001b[0m in \u001b[0;36mdraw\u001b[0;34m(self, renderer, inframe)\u001b[0m\n\u001b[1;32m   2608\u001b[0m             \u001b[0mrenderer\u001b[0m\u001b[0;34m.\u001b[0m\u001b[0mstop_rasterizing\u001b[0m\u001b[0;34m(\u001b[0m\u001b[0;34m)\u001b[0m\u001b[0;34m\u001b[0m\u001b[0m\n\u001b[1;32m   2609\u001b[0m \u001b[0;34m\u001b[0m\u001b[0m\n\u001b[0;32m-> 2610\u001b[0;31m         \u001b[0mmimage\u001b[0m\u001b[0;34m.\u001b[0m\u001b[0m_draw_list_compositing_images\u001b[0m\u001b[0;34m(\u001b[0m\u001b[0mrenderer\u001b[0m\u001b[0;34m,\u001b[0m \u001b[0mself\u001b[0m\u001b[0;34m,\u001b[0m \u001b[0martists\u001b[0m\u001b[0;34m)\u001b[0m\u001b[0;34m\u001b[0m\u001b[0m\n\u001b[0m\u001b[1;32m   2611\u001b[0m \u001b[0;34m\u001b[0m\u001b[0m\n\u001b[1;32m   2612\u001b[0m         \u001b[0mrenderer\u001b[0m\u001b[0;34m.\u001b[0m\u001b[0mclose_group\u001b[0m\u001b[0;34m(\u001b[0m\u001b[0;34m'axes'\u001b[0m\u001b[0;34m)\u001b[0m\u001b[0;34m\u001b[0m\u001b[0m\n",
      "\u001b[0;32m~/.conda/envs/cam36/lib/python3.6/site-packages/matplotlib/image.py\u001b[0m in \u001b[0;36m_draw_list_compositing_images\u001b[0;34m(renderer, parent, artists, suppress_composite)\u001b[0m\n\u001b[1;32m    136\u001b[0m     \u001b[0;32mif\u001b[0m \u001b[0mnot_composite\u001b[0m \u001b[0;32mor\u001b[0m \u001b[0;32mnot\u001b[0m \u001b[0mhas_images\u001b[0m\u001b[0;34m:\u001b[0m\u001b[0;34m\u001b[0m\u001b[0m\n\u001b[1;32m    137\u001b[0m         \u001b[0;32mfor\u001b[0m \u001b[0ma\u001b[0m \u001b[0;32min\u001b[0m \u001b[0martists\u001b[0m\u001b[0;34m:\u001b[0m\u001b[0;34m\u001b[0m\u001b[0m\n\u001b[0;32m--> 138\u001b[0;31m             \u001b[0ma\u001b[0m\u001b[0;34m.\u001b[0m\u001b[0mdraw\u001b[0m\u001b[0;34m(\u001b[0m\u001b[0mrenderer\u001b[0m\u001b[0;34m)\u001b[0m\u001b[0;34m\u001b[0m\u001b[0m\n\u001b[0m\u001b[1;32m    139\u001b[0m     \u001b[0;32melse\u001b[0m\u001b[0;34m:\u001b[0m\u001b[0;34m\u001b[0m\u001b[0m\n\u001b[1;32m    140\u001b[0m         \u001b[0;31m# Composite any adjacent images together\u001b[0m\u001b[0;34m\u001b[0m\u001b[0;34m\u001b[0m\u001b[0m\n",
      "\u001b[0;32m~/.conda/envs/cam36/lib/python3.6/site-packages/matplotlib/artist.py\u001b[0m in \u001b[0;36mdraw_wrapper\u001b[0;34m(artist, renderer, *args, **kwargs)\u001b[0m\n\u001b[1;32m     48\u001b[0m                 \u001b[0mrenderer\u001b[0m\u001b[0;34m.\u001b[0m\u001b[0mstart_filter\u001b[0m\u001b[0;34m(\u001b[0m\u001b[0;34m)\u001b[0m\u001b[0;34m\u001b[0m\u001b[0m\n\u001b[1;32m     49\u001b[0m \u001b[0;34m\u001b[0m\u001b[0m\n\u001b[0;32m---> 50\u001b[0;31m             \u001b[0;32mreturn\u001b[0m \u001b[0mdraw\u001b[0m\u001b[0;34m(\u001b[0m\u001b[0martist\u001b[0m\u001b[0;34m,\u001b[0m \u001b[0mrenderer\u001b[0m\u001b[0;34m,\u001b[0m \u001b[0;34m*\u001b[0m\u001b[0margs\u001b[0m\u001b[0;34m,\u001b[0m \u001b[0;34m**\u001b[0m\u001b[0mkwargs\u001b[0m\u001b[0;34m)\u001b[0m\u001b[0;34m\u001b[0m\u001b[0m\n\u001b[0m\u001b[1;32m     51\u001b[0m         \u001b[0;32mfinally\u001b[0m\u001b[0;34m:\u001b[0m\u001b[0;34m\u001b[0m\u001b[0m\n\u001b[1;32m     52\u001b[0m             \u001b[0;32mif\u001b[0m \u001b[0martist\u001b[0m\u001b[0;34m.\u001b[0m\u001b[0mget_agg_filter\u001b[0m\u001b[0;34m(\u001b[0m\u001b[0;34m)\u001b[0m \u001b[0;32mis\u001b[0m \u001b[0;32mnot\u001b[0m \u001b[0;32mNone\u001b[0m\u001b[0;34m:\u001b[0m\u001b[0;34m\u001b[0m\u001b[0m\n",
      "\u001b[0;32m~/.conda/envs/cam36/lib/python3.6/site-packages/matplotlib/image.py\u001b[0m in \u001b[0;36mdraw\u001b[0;34m(self, renderer, *args, **kwargs)\u001b[0m\n\u001b[1;32m    582\u001b[0m         \u001b[0;32melse\u001b[0m\u001b[0;34m:\u001b[0m\u001b[0;34m\u001b[0m\u001b[0m\n\u001b[1;32m    583\u001b[0m             im, l, b, trans = self.make_image(\n\u001b[0;32m--> 584\u001b[0;31m                 renderer, renderer.get_image_magnification())\n\u001b[0m\u001b[1;32m    585\u001b[0m             \u001b[0;32mif\u001b[0m \u001b[0mim\u001b[0m \u001b[0;32mis\u001b[0m \u001b[0;32mnot\u001b[0m \u001b[0;32mNone\u001b[0m\u001b[0;34m:\u001b[0m\u001b[0;34m\u001b[0m\u001b[0m\n\u001b[1;32m    586\u001b[0m                 \u001b[0mrenderer\u001b[0m\u001b[0;34m.\u001b[0m\u001b[0mdraw_image\u001b[0m\u001b[0;34m(\u001b[0m\u001b[0mgc\u001b[0m\u001b[0;34m,\u001b[0m \u001b[0ml\u001b[0m\u001b[0;34m,\u001b[0m \u001b[0mb\u001b[0m\u001b[0;34m,\u001b[0m \u001b[0mim\u001b[0m\u001b[0;34m)\u001b[0m\u001b[0;34m\u001b[0m\u001b[0m\n",
      "\u001b[0;32m~/.conda/envs/cam36/lib/python3.6/site-packages/matplotlib/image.py\u001b[0m in \u001b[0;36mmake_image\u001b[0;34m(self, renderer, magnification, unsampled)\u001b[0m\n\u001b[1;32m    837\u001b[0m         return self._make_image(\n\u001b[1;32m    838\u001b[0m             \u001b[0mself\u001b[0m\u001b[0;34m.\u001b[0m\u001b[0m_A\u001b[0m\u001b[0;34m,\u001b[0m \u001b[0mbbox\u001b[0m\u001b[0;34m,\u001b[0m \u001b[0mtransformed_bbox\u001b[0m\u001b[0;34m,\u001b[0m \u001b[0mself\u001b[0m\u001b[0;34m.\u001b[0m\u001b[0maxes\u001b[0m\u001b[0;34m.\u001b[0m\u001b[0mbbox\u001b[0m\u001b[0;34m,\u001b[0m \u001b[0mmagnification\u001b[0m\u001b[0;34m,\u001b[0m\u001b[0;34m\u001b[0m\u001b[0m\n\u001b[0;32m--> 839\u001b[0;31m             unsampled=unsampled)\n\u001b[0m\u001b[1;32m    840\u001b[0m \u001b[0;34m\u001b[0m\u001b[0m\n\u001b[1;32m    841\u001b[0m     \u001b[0;32mdef\u001b[0m \u001b[0m_check_unsampled_image\u001b[0m\u001b[0;34m(\u001b[0m\u001b[0mself\u001b[0m\u001b[0;34m,\u001b[0m \u001b[0mrenderer\u001b[0m\u001b[0;34m)\u001b[0m\u001b[0;34m:\u001b[0m\u001b[0;34m\u001b[0m\u001b[0m\n",
      "\u001b[0;32m~/.conda/envs/cam36/lib/python3.6/site-packages/matplotlib/image.py\u001b[0m in \u001b[0;36m_make_image\u001b[0;34m(self, A, in_bbox, out_bbox, clip_bbox, magnification, unsampled, round_to_pixel_border)\u001b[0m\n\u001b[1;32m    385\u001b[0m                 \u001b[0;31m# This may introduce numeric instabilities in very broadly\u001b[0m\u001b[0;34m\u001b[0m\u001b[0;34m\u001b[0m\u001b[0m\n\u001b[1;32m    386\u001b[0m                 \u001b[0;31m# scaled data\u001b[0m\u001b[0;34m\u001b[0m\u001b[0;34m\u001b[0m\u001b[0m\n\u001b[0;32m--> 387\u001b[0;31m                 \u001b[0mA_scaled\u001b[0m \u001b[0;34m=\u001b[0m \u001b[0mnp\u001b[0m\u001b[0;34m.\u001b[0m\u001b[0mempty\u001b[0m\u001b[0;34m(\u001b[0m\u001b[0mA\u001b[0m\u001b[0;34m.\u001b[0m\u001b[0mshape\u001b[0m\u001b[0;34m,\u001b[0m \u001b[0mdtype\u001b[0m\u001b[0;34m=\u001b[0m\u001b[0mscaled_dtype\u001b[0m\u001b[0;34m)\u001b[0m\u001b[0;34m\u001b[0m\u001b[0m\n\u001b[0m\u001b[1;32m    388\u001b[0m                 \u001b[0mA_scaled\u001b[0m\u001b[0;34m[\u001b[0m\u001b[0;34m:\u001b[0m\u001b[0;34m]\u001b[0m \u001b[0;34m=\u001b[0m \u001b[0mA\u001b[0m\u001b[0;34m\u001b[0m\u001b[0m\n\u001b[1;32m    389\u001b[0m                 \u001b[0;31m# clip scaled data around norm if necessary.\u001b[0m\u001b[0;34m\u001b[0m\u001b[0;34m\u001b[0m\u001b[0m\n",
      "\u001b[0;31mMemoryError\u001b[0m: "
     ]
    },
    {
     "data": {
      "text/plain": [
       "<Figure size 432x288 with 1 Axes>"
      ]
     },
     "metadata": {
      "needs_background": "light"
     },
     "output_type": "display_data"
    },
    {
     "data": {
      "image/png": "[encoded data removed]",
      "text/plain": [
       "<Figure size 432x288 with 1 Axes>"
      ]
     },
     "metadata": {
      "needs_background": "light"
     },
     "output_type": "display_data"
    },
    {
     "data": {
      "image/png": "[encoded data removed]",
      "text/plain": [
       "<Figure size 432x288 with 1 Axes>"
      ]
     },
     "metadata": {
      "needs_background": "light"
     },
     "output_type": "display_data"
    }
   ],
   "source": [
    "## Plot original image, prediction tumor mask, and actual tumor mask\n",
    "\n",
    "fig1, ax1 = plt.subplots()\n",
    "plt.imshow(tissue_regions)\n",
    "ax1.set_title(\"Original Image\")\n",
    "\n",
    "fig2, ax2 = plt.subplots()\n",
    "plt.imshow(predictions)\n",
    "ax2.set_title(\"Predicted Tumor Mask\")\n",
    "\n",
    "fig3, ax3 = plt.subplots()\n",
    "plt.imshow(mask_image)\n",
    "ax3.set_title(\"Actual Tumor Mask\")"
   ]
  },
  {
   "cell_type": "code",
   "execution_count": 0,
   "metadata": {
    "colab": {},
    "colab_type": "code",
    "id": "61fYKZdUq0hL"
   },
   "outputs": [],
   "source": []
  },
  {
   "cell_type": "markdown",
   "metadata": {
    "colab_type": "text",
    "id": "BFIDEn-oqZ71"
   },
   "source": [
    "# Evaluation"
   ]
  },
  {
   "cell_type": "code",
   "execution_count": 0,
   "metadata": {
    "colab": {
     "base_uri": "https://localhost:8080/",
     "height": 190
    },
    "colab_type": "code",
    "id": "9TfYlss5qe4O",
    "outputId": "8b6b2567-f99e-4e16-8d32-29955f3f7faf"
   },
   "outputs": [
    {
     "name": "stdout",
     "output_type": "stream",
     "text": [
      "Collecting sklearn\n",
      "  Downloading https://files.pythonhosted.org/packages/1e/7a/dbb3be0ce9bd5c8b7e3d87328e79063f8b263b2b1bfa4774cb1147bfcd3f/sklearn-0.0.tar.gz\n",
      "Requirement already satisfied: scikit-learn in /usr/local/lib/python3.6/dist-packages (from sklearn) (0.19.2)\n",
      "Building wheels for collected packages: sklearn\n",
      "  Running setup.py bdist_wheel for sklearn ... \u001b[?25l-\b \bdone\n",
      "\u001b[?25h  Stored in directory: /root/.cache/pip/wheels/76/03/bb/589d421d27431bcd2c6da284d5f2286c8e3b2ea3cf1594c074\n",
      "Successfully built sklearn\n",
      "Installing collected packages: sklearn\n",
      "Successfully installed sklearn-0.0\n"
     ]
    }
   ],
   "source": [
    "!pip install sklearn"
   ]
  },
  {
   "cell_type": "code",
   "execution_count": 0,
   "metadata": {
    "colab": {},
    "colab_type": "code",
    "id": "29AJOGP5qe8D"
   },
   "outputs": [],
   "source": [
    "from sklearn.metrics import confusion_matrix,precision_score,recall_score,f1_score\n",
    "import pandas as pd"
   ]
  },
  {
   "cell_type": "code",
   "execution_count": 0,
   "metadata": {
    "colab": {},
    "colab_type": "code",
    "id": "mxNWoxHxqbdM"
   },
   "outputs": [],
   "source": [
    "def heatmap_evaluation(predictions, tissue_regions, mask_image):\n",
    "  \n",
    "  # we only need to evaluate on areas which are tissue.\n",
    "  # correct non tumor prediction count would be higher if we get credit for \n",
    "  # predicting gray areas aren't tumors\n",
    "  \n",
    "  # find out the correct amount to scale predictions to match image\n",
    "  scale = int(mask_image.shape[0]/predictions.shape[0])\n",
    "  \n",
    "  # create scaled prediction matix\n",
    "  predictions_scaled = np.kron(predictions, np.ones((scale, scale)))\n",
    "  \n",
    "  # reshape everything to a 1D vector for easy computation\n",
    "  predictions_scaled = predictions_scaled.reshape(-1)\n",
    "  mask_image = mask_image.reshape(-1)\n",
    "  tissue_regions = tissue_regions.reshape(-1)\n",
    "  \n",
    "  # only include entries that have tissue \n",
    "  predictions_scaled = predictions_scaled[tissue_regions == 1]\n",
    "  mask_image = mask_image[tissue_regions == 1]\n",
    "  \n",
    "  # evaluate\n",
    "  p = precision_score(mask_image, predictions_scaled)\n",
    "  print('Precision:', p)\n",
    "  r = recall_score(mask_image, predictions_scaled)\n",
    "  print('Recall:', r)\n",
    "  f = f1_score(mask_image, predictions_scaled)\n",
    "  print('F1:', f)\n",
    "  cm = confusion_matrix(mask_image, predictions_scaled)\n",
    "  df_cm = pd.DataFrame(cm,columns = ['Predicted 0', 'Predicted 1'])\n",
    "  df_cm.index = ['Reality 0', 'Reality 1']\n",
    "  print('Confusion Matrix:')\n",
    "  df_cm = pd.DataFrame(cm,columns = ['Predicted 0', 'Predicted 1'])\n",
    "  df_cm.index = ['Reality 0', 'Reality 1']\n",
    "  print(df_cm)\n",
    "  df_cm_percent = df_cm\n",
    "  df_cm_percent['Predicted 0'] = 100*df_cm_percent['Predicted 0']/len(mask_image)\n",
    "  df_cm_percent['Predicted 1'] = 100*df_cm_percent['Predicted 1']/len(mask_image)\n",
    "  print(df_cm_percent)\n",
    "  \n",
    "  #return p,r,f,df_cm\n"
   ]
  },
  {
   "cell_type": "code",
   "execution_count": 0,
   "metadata": {
    "colab": {
     "base_uri": "https://localhost:8080/",
     "height": 187
    },
    "colab_type": "code",
    "id": "jBWLpOUsqdho",
    "outputId": "16417a1d-b9e8-4427-b41b-92192faf0fb2"
   },
   "outputs": [
    {
     "name": "stdout",
     "output_type": "stream",
     "text": [
      "Precision: 0.9433550021062713\n",
      "Recall: 0.9432389391792646\n",
      "F1: 0.9432969670726826\n",
      "Confusion Matrix:\n",
      "           Predicted 0  Predicted 1\n",
      "Reality 0     15595780       884796\n",
      "Reality 1       886718     14735224\n",
      "           Predicted 0  Predicted 1\n",
      "Reality 0    48.581174     2.756158\n",
      "Reality 1     2.762145    45.900524\n"
     ]
    }
   ],
   "source": [
    "heatmap_evaluation(predictions, tissue_regions, mask_image)"
   ]
  },
  {
   "cell_type": "code",
   "execution_count": 0,
   "metadata": {
    "colab": {},
    "colab_type": "code",
    "id": "1KzBHa2DtJuP"
   },
   "outputs": [],
   "source": []
  }
 ],
 "metadata": {
  "accelerator": "GPU",
  "colab": {
   "collapsed_sections": [],
   "name": "project_starter_code_testing.ipynb",
   "provenance": [],
   "toc_visible": true,
   "version": "0.3.2"
  },
  "kernelspec": {
   "display_name": "Python 3",
   "language": "python",
   "name": "python3"
  },
  "language_info": {
   "codemirror_mode": {
    "name": "ipython",
    "version": 3
   },
   "file_extension": ".py",
   "mimetype": "text/x-python",
   "name": "python",
   "nbconvert_exporter": "python",
   "pygments_lexer": "ipython3",
   "version": "3.6.6"
  }
 },
 "nbformat": 4,
 "nbformat_minor": 1
}
